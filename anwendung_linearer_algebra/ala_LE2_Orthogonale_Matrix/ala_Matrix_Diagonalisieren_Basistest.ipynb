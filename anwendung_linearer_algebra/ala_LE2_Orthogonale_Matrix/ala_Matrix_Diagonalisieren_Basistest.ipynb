{
 "cells": [
  {
   "cell_type": "code",
   "execution_count": 1,
   "id": "2becf4f2",
   "metadata": {},
   "outputs": [],
   "source": [
    "# Modul importieren\n",
    "import numpy as np"
   ]
  },
  {
   "cell_type": "code",
   "execution_count": 2,
   "id": "02b1157a",
   "metadata": {},
   "outputs": [
    {
     "name": "stdout",
     "output_type": "stream",
     "text": [
      "[[ 0.  2.  0.]\n",
      " [ 2.  0.  0.]\n",
      " [ 0.  0. -1.]]\n"
     ]
    }
   ],
   "source": [
    "# Matrix erstellen\n",
    "M = np.array([[0.,2.,0.],[2.,0.,0.],[0.,0.,-1.]])\n",
    "print(M)"
   ]
  },
  {
   "cell_type": "code",
   "execution_count": 3,
   "id": "568175f0",
   "metadata": {},
   "outputs": [
    {
     "name": "stdout",
     "output_type": "stream",
     "text": [
      "[ 2. -2. -1.]\n",
      "[[ 0.70710678 -0.70710678  0.        ]\n",
      " [ 0.70710678  0.70710678  0.        ]\n",
      " [ 0.          0.          1.        ]]\n"
     ]
    }
   ],
   "source": [
    "# Eigenwerte und Eigenvetkoren\n",
    "\n",
    "eigenwerte, eigenvektoren = np.linalg.eig(M)\n",
    "print(eigenwerte)\n",
    "print(eigenvektoren)"
   ]
  },
  {
   "cell_type": "code",
   "execution_count": 4,
   "id": "502cf1a1",
   "metadata": {},
   "outputs": [
    {
     "name": "stdout",
     "output_type": "stream",
     "text": [
      "[[ 1.41421356 -1.41421356  0.        ]\n",
      " [ 1.41421356  1.41421356  0.        ]\n",
      " [ 0.          0.          2.        ]]\n"
     ]
    }
   ],
   "source": [
    "# Eigen Basis Vektoren (Whatever) mit Faktor 2 multiplizieren\n",
    "eigenvektor_2 =  eigenvektoren * 2\n",
    "print(eigenvektor_2)"
   ]
  },
  {
   "cell_type": "code",
   "execution_count": 5,
   "id": "8dcacf28",
   "metadata": {},
   "outputs": [
    {
     "name": "stdout",
     "output_type": "stream",
     "text": [
      "[[ 2.  0.  0.]\n",
      " [ 0. -2.  0.]\n",
      " [ 0.  0. -1.]]\n"
     ]
    }
   ],
   "source": [
    "# Matrix D erstellen\n",
    "D = np.diag(eigenwerte)\n",
    "print(D)"
   ]
  },
  {
   "cell_type": "code",
   "execution_count": 6,
   "id": "41883fce",
   "metadata": {},
   "outputs": [
    {
     "name": "stdout",
     "output_type": "stream",
     "text": [
      "[[ 0.  2.  0.]\n",
      " [ 2. -0.  0.]\n",
      " [ 0.  0. -1.]]\n"
     ]
    }
   ],
   "source": [
    "V_1 = eigenvektor_2\n",
    "V_Inv = np.linalg.inv(eigenvektor_2)\n",
    "M_1 = V_1 @ D @ V_Inv\n",
    "print(np.round(M_1))"
   ]
  },
  {
   "cell_type": "code",
   "execution_count": 7,
   "id": "8870aef5",
   "metadata": {},
   "outputs": [
    {
     "name": "stdout",
     "output_type": "stream",
     "text": [
      "[[ 0.  2.  0.]\n",
      " [ 2. -0.  0.]\n",
      " [ 0.  0. -1.]]\n"
     ]
    }
   ],
   "source": [
    "V_2 = eigenvektoren\n",
    "V_2_Inv = eigenvektoren.T\n",
    "M_2 = V_2 @ D @ V_2_Inv\n",
    "print(np.round(M_2))"
   ]
  },
  {
   "cell_type": "code",
   "execution_count": 9,
   "id": "689f386a",
   "metadata": {},
   "outputs": [
    {
     "name": "stdout",
     "output_type": "stream",
     "text": [
      "[[1.07374182e+09 0.00000000e+00 0.00000000e+00]\n",
      " [0.00000000e+00 1.07374182e+09 0.00000000e+00]\n",
      " [0.00000000e+00 0.00000000e+00 1.00000000e+00]]\n"
     ]
    }
   ],
   "source": [
    "M_30 = V_2 @ D ** 30 @ V_2_Inv\n",
    "print(np.round(M_30))"
   ]
  },
  {
   "cell_type": "code",
   "execution_count": null,
   "id": "c7470b85",
   "metadata": {},
   "outputs": [],
   "source": []
  },
  {
   "cell_type": "code",
   "execution_count": null,
   "id": "5053f006",
   "metadata": {},
   "outputs": [],
   "source": []
  }
 ],
 "metadata": {
  "kernelspec": {
   "display_name": "Python 3 (ipykernel)",
   "language": "python",
   "name": "python3"
  },
  "language_info": {
   "codemirror_mode": {
    "name": "ipython",
    "version": 3
   },
   "file_extension": ".py",
   "mimetype": "text/x-python",
   "name": "python",
   "nbconvert_exporter": "python",
   "pygments_lexer": "ipython3",
   "version": "3.9.7"
  }
 },
 "nbformat": 4,
 "nbformat_minor": 5
}
