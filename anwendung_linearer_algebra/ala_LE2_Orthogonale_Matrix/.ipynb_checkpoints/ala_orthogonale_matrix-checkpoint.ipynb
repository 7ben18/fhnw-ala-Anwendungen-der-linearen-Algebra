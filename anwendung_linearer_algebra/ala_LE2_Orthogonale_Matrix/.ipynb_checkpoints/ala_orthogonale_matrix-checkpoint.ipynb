{
 "cells": [
  {
   "cell_type": "code",
   "execution_count": 1,
   "id": "fbe3f680",
   "metadata": {},
   "outputs": [],
   "source": [
    "# Modul importieren\n",
    "import numpy as np"
   ]
  },
  {
   "cell_type": "code",
   "execution_count": 2,
   "id": "823472dc",
   "metadata": {},
   "outputs": [
    {
     "name": "stdout",
     "output_type": "stream",
     "text": [
      "[[ 0.6  0.8]\n",
      " [-0.8  0.6]]\n"
     ]
    }
   ],
   "source": [
    "# Orthogonale Symetrische Matrix erstellen\n",
    "M = np.array([[0.2*3, 0.2*4],[0.2*-4, 0.2*3]])\n",
    "print(M)"
   ]
  },
  {
   "cell_type": "code",
   "execution_count": 3,
   "id": "bb8e009c",
   "metadata": {},
   "outputs": [
    {
     "name": "stdout",
     "output_type": "stream",
     "text": [
      "[[ 0.6 -0.8]\n",
      " [ 0.8  0.6]]\n"
     ]
    }
   ],
   "source": [
    "# M Transponiere\n",
    "M_T = M.T\n",
    "print(M_T)"
   ]
  },
  {
   "cell_type": "code",
   "execution_count": 5,
   "id": "b6d472d7",
   "metadata": {},
   "outputs": [
    {
     "name": "stdout",
     "output_type": "stream",
     "text": [
      "[[1. 0.]\n",
      " [0. 1.]]\n"
     ]
    }
   ],
   "source": [
    "# Testen, ob ich durch die Multiplikation eine Einheitsmatrix erhalte\n",
    "E = M @ M_T # np.dot(M, M_T)\n",
    "print(np.round(E))"
   ]
  },
  {
   "cell_type": "code",
   "execution_count": 11,
   "id": "46d7bc4f",
   "metadata": {},
   "outputs": [
    {
     "name": "stdout",
     "output_type": "stream",
     "text": [
      "1.0000000000000002 1.0000000000000002\n",
      "1.0000000000000004\n",
      "1.0000000000000004\n",
      "True\n"
     ]
    }
   ],
   "source": [
    "# Test mit der Determinante\n",
    "det_M = np.linalg.det(M)\n",
    "det_M_T = np.linalg.det(M_T)\n",
    "det_E = np.linalg.det(E)\n",
    "\n",
    "print(det_M, det_M_T)\n",
    "print(det_M * det_M_T)\n",
    "print(det_E)\n",
    "\n",
    "print(det_E == det_M**2)\n",
    "\n",
    "# Bedeutet, determinante der Matrix M ** 2 ist gleich der Determinante von der Einheitsmatrix"
   ]
  },
  {
   "cell_type": "code",
   "execution_count": 16,
   "id": "8b69bc93",
   "metadata": {},
   "outputs": [
    {
     "name": "stdout",
     "output_type": "stream",
     "text": [
      "[[ 0.6 -0.8]\n",
      " [ 0.8  0.6]]\n",
      "[[ 0.6 -0.8]\n",
      " [ 0.8  0.6]]\n",
      "[[ True  True]\n",
      " [ True  True]]\n"
     ]
    }
   ],
   "source": [
    "# Inverse und Transponierte Matrix Weil symetrische Matrix\n",
    "M_inv = np.linalg.inv(M)\n",
    "\n",
    "print(M_inv)\n",
    "print(M_T)\n",
    "print(np.round(M_inv) == np.round(M_T))"
   ]
  },
  {
   "cell_type": "code",
   "execution_count": null,
   "id": "91217e7a",
   "metadata": {},
   "outputs": [],
   "source": [
    "# Dimension der Matrix R nxn\n",
    "# Eine Matrix hat nur eine Inverse, wenn diese Regulaer ist! Somit ist der Rang einer R nxn Matrix n\n",
    "# Der Kern entsprechend ist 0 und das Bild n. \n"
   ]
  },
  {
   "cell_type": "code",
   "execution_count": null,
   "id": "b3c4ccbc",
   "metadata": {},
   "outputs": [],
   "source": []
  },
  {
   "cell_type": "code",
   "execution_count": null,
   "id": "8183dc1b",
   "metadata": {},
   "outputs": [],
   "source": []
  },
  {
   "cell_type": "code",
   "execution_count": null,
   "id": "14341c38",
   "metadata": {},
   "outputs": [],
   "source": []
  }
 ],
 "metadata": {
  "kernelspec": {
   "display_name": "Python 3 (ipykernel)",
   "language": "python",
   "name": "python3"
  },
  "language_info": {
   "codemirror_mode": {
    "name": "ipython",
    "version": 3
   },
   "file_extension": ".py",
   "mimetype": "text/x-python",
   "name": "python",
   "nbconvert_exporter": "python",
   "pygments_lexer": "ipython3",
   "version": "3.9.7"
  }
 },
 "nbformat": 4,
 "nbformat_minor": 5
}
