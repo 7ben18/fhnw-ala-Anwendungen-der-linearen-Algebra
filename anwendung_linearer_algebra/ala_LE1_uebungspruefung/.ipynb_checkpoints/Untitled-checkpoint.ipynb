{
 "cells": [
  {
   "cell_type": "code",
   "execution_count": 1,
   "id": "65bd29d6",
   "metadata": {},
   "outputs": [],
   "source": [
    "# Module importieren\n",
    "import numpy as np"
   ]
  },
  {
   "cell_type": "code",
   "execution_count": 6,
   "id": "3da317cc",
   "metadata": {},
   "outputs": [
    {
     "name": "stdout",
     "output_type": "stream",
     "text": [
      "[[ 1 -2]\n",
      " [-1  0]]\n",
      "-2.0\n",
      "[ 2. -1.]\n",
      "[[ 0.89442719  0.70710678]\n",
      " [-0.4472136   0.70710678]]\n"
     ]
    }
   ],
   "source": [
    "# Aufgabe 1a\n",
    "\n",
    "A = np.array([[1,-2],[-1,0]])\n",
    "print(A)\n",
    "\n",
    "# Determinante\n",
    "det_A = np.linalg.det(A)\n",
    "print(det_A)\n",
    "\\\n",
    "# Eigenwerte, Eigenvektoren \n",
    "eigw_A, eigv_A = np.linalg.eig(A)\n",
    "print(eigw_A)\n",
    "print(eigv_A)"
   ]
  },
  {
   "cell_type": "code",
   "execution_count": 7,
   "id": "07dea5f5",
   "metadata": {},
   "outputs": [
    {
     "name": "stdout",
     "output_type": "stream",
     "text": [
      "[[5 1 1]\n",
      " [0 1 1]\n",
      " [0 0 1]]\n",
      "[5. 1. 1.]\n",
      "[[ 1.00000000e+00 -2.42535625e-01  2.42535625e-01]\n",
      " [ 0.00000000e+00  9.70142500e-01 -9.70142500e-01]\n",
      " [ 0.00000000e+00  0.00000000e+00  2.15414908e-16]]\n"
     ]
    }
   ],
   "source": [
    "# Aufgabe 1b\n",
    "\n",
    "B = np.array([[5,1,1],[0,1,1],[0,0,1]])\n",
    "print(B)\n",
    "\n",
    "# Eigenwerte, Eigenvektoren\n",
    "eigw_B, eigv_B = np.linalg.eig(B)\n",
    "print(eigw_B)\n",
    "print(eigv_B)"
   ]
  },
  {
   "cell_type": "code",
   "execution_count": 9,
   "id": "3c54a7a4",
   "metadata": {},
   "outputs": [
    {
     "name": "stdout",
     "output_type": "stream",
     "text": [
      "[[1 0 1]\n",
      " [0 1 0]\n",
      " [1 0 1]]\n",
      "[2. 0. 1.]\n",
      "[[ 0.70710678 -0.70710678  0.        ]\n",
      " [ 0.          0.          1.        ]\n",
      " [ 0.70710678  0.70710678  0.        ]]\n"
     ]
    }
   ],
   "source": [
    "# Aufgabe 1c\n",
    "\n",
    "C = np.array([[1,0,1],[0,1,0],[1,0,1]])\n",
    "print(C)\n",
    "\n",
    "# Eigenwerte, Eigenvektoren\n",
    "eigw_c, eigv_c = np.linalg.eig(C)\n",
    "print(eigw_c)\n",
    "print(eigv_c)"
   ]
  },
  {
   "cell_type": "code",
   "execution_count": 35,
   "id": "0900fc99",
   "metadata": {},
   "outputs": [
    {
     "name": "stdout",
     "output_type": "stream",
     "text": [
      "[[ 0.  2.  0.]\n",
      " [ 2.  0.  0.]\n",
      " [ 0.  0. -1.]]\n",
      "[ 2. -2. -1.]\n",
      "[[ 0.70710678 -0.70710678  0.        ]\n",
      " [ 0.70710678  0.70710678  0.        ]\n",
      " [ 0.          0.          1.        ]]\n",
      "[[ 2.  0.  0.]\n",
      " [ 0. -2.  0.]\n",
      " [ 0.  0. -1.]]\n",
      "[[ 0.70710678 -0.70710678  0.        ]\n",
      " [ 0.70710678  0.70710678  0.        ]\n",
      " [ 0.          0.          1.        ]]\n",
      "[[ 0.70710678  0.70710678  0.        ]\n",
      " [-0.70710678  0.70710678  0.        ]\n",
      " [ 0.          0.          1.        ]]\n",
      "[[ 0.  2.  0.]\n",
      " [ 2. -0.  0.]\n",
      " [ 0.  0. -1.]]\n",
      "[[  0. 512.   0.]\n",
      " [512.   0.   0.]\n",
      " [  0.   0.  -1.]]\n"
     ]
    }
   ],
   "source": [
    "# Aufgabe 2\n",
    "\n",
    "M = np.array([[0.,2.,0.],[2.,0.,0.],[0.,0.,-1.]])\n",
    "print(M)\n",
    "\n",
    "# Eigenwerte, Eigenvetkoren\n",
    "eigw_M, eigv_M = np.linalg.eig(M)\n",
    "print(eigw_M)\n",
    "print(eigv_M)\n",
    "\n",
    "D = np.diag(eigw_M)\n",
    "print(D)\n",
    "\n",
    "V = eigv_M\n",
    "print(V)\n",
    "\n",
    "V_T = eigv_M.T\n",
    "print(V_T)\n",
    "\n",
    "M_2 = np.dot(np.dot(V, D),V_T)\n",
    "print(np.round(M_2))\n",
    "\n",
    "k = 9\n",
    "M_K = np.dot(np.dot(V, D ** k), V_T)\n",
    "print(np.round(M_K))"
   ]
  },
  {
   "cell_type": "code",
   "execution_count": null,
   "id": "18c82b10",
   "metadata": {},
   "outputs": [],
   "source": []
  },
  {
   "cell_type": "code",
   "execution_count": null,
   "id": "13d236f7",
   "metadata": {},
   "outputs": [],
   "source": []
  },
  {
   "cell_type": "code",
   "execution_count": null,
   "id": "51871697",
   "metadata": {},
   "outputs": [],
   "source": []
  }
 ],
 "metadata": {
  "kernelspec": {
   "display_name": "Python 3 (ipykernel)",
   "language": "python",
   "name": "python3"
  },
  "language_info": {
   "codemirror_mode": {
    "name": "ipython",
    "version": 3
   },
   "file_extension": ".py",
   "mimetype": "text/x-python",
   "name": "python",
   "nbconvert_exporter": "python",
   "pygments_lexer": "ipython3",
   "version": "3.9.7"
  }
 },
 "nbformat": 4,
 "nbformat_minor": 5
}
