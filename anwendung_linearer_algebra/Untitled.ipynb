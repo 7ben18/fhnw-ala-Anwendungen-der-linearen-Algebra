{
 "cells": [
  {
   "cell_type": "code",
   "execution_count": 2,
   "id": "5ee387f1",
   "metadata": {},
   "outputs": [],
   "source": [
    "import numpy as np\n",
    "import sympy as sym"
   ]
  },
  {
   "cell_type": "code",
   "execution_count": 3,
   "id": "52fafbab",
   "metadata": {},
   "outputs": [],
   "source": [
    "x, y, z = sym.symbols(\"x y z\")"
   ]
  },
  {
   "cell_type": "code",
   "execution_count": 4,
   "id": "f8930027",
   "metadata": {},
   "outputs": [
    {
     "data": {
      "text/latex": [
       "$\\displaystyle \\left[\\begin{matrix}4 & 0 & 2\\\\0 & 1 & 0\\\\2 & 0 & 1\\end{matrix}\\right]$"
      ],
      "text/plain": [
       "Matrix([\n",
       "[4, 0, 2],\n",
       "[0, 1, 0],\n",
       "[2, 0, 1]])"
      ]
     },
     "execution_count": 4,
     "metadata": {},
     "output_type": "execute_result"
    }
   ],
   "source": [
    "A = sym.Matrix([[4,0,2],[0,1,0],[2,0,1]])\n",
    "A"
   ]
  },
  {
   "cell_type": "code",
   "execution_count": 5,
   "id": "1d28c936",
   "metadata": {},
   "outputs": [
    {
     "data": {
      "text/latex": [
       "$\\displaystyle \\left[\\begin{matrix}x\\\\y\\\\z\\end{matrix}\\right]$"
      ],
      "text/plain": [
       "Matrix([\n",
       "[x],\n",
       "[y],\n",
       "[z]])"
      ]
     },
     "execution_count": 5,
     "metadata": {},
     "output_type": "execute_result"
    }
   ],
   "source": [
    "xv = sym.Matrix([[x],[y],[z]])\n",
    "xv"
   ]
  },
  {
   "cell_type": "code",
   "execution_count": 6,
   "id": "2d9a4fcb",
   "metadata": {},
   "outputs": [
    {
     "data": {
      "text/latex": [
       "$\\displaystyle \\left[\\begin{matrix}x & y & z\\end{matrix}\\right]$"
      ],
      "text/plain": [
       "Matrix([[x, y, z]])"
      ]
     },
     "execution_count": 6,
     "metadata": {},
     "output_type": "execute_result"
    }
   ],
   "source": [
    "xvT = xv.T\n",
    "xvT"
   ]
  },
  {
   "cell_type": "code",
   "execution_count": 10,
   "id": "947a05fb",
   "metadata": {},
   "outputs": [
    {
     "data": {
      "text/latex": [
       "$\\displaystyle \\left[\\begin{matrix}4 x^{2} + 4 x z + y^{2} + z^{2}\\end{matrix}\\right]$"
      ],
      "text/plain": [
       "Matrix([[4*x**2 + 4*x*z + y**2 + z**2]])"
      ]
     },
     "execution_count": 10,
     "metadata": {},
     "output_type": "execute_result"
    }
   ],
   "source": [
    "q = xvT * A * xv\n",
    "q = sym.simplify(q)\n",
    "q"
   ]
  },
  {
   "cell_type": "code",
   "execution_count": 18,
   "id": "bce425a5",
   "metadata": {},
   "outputs": [
    {
     "data": {
      "text/plain": [
       "array([[4, 0, 2],\n",
       "       [0, 1, 0],\n",
       "       [2, 0, 1]])"
      ]
     },
     "execution_count": 18,
     "metadata": {},
     "output_type": "execute_result"
    }
   ],
   "source": [
    "M = np.array([[4,0,2],[0,1,0],[2,0,1]])\n",
    "M"
   ]
  },
  {
   "cell_type": "code",
   "execution_count": 19,
   "id": "1e216e31",
   "metadata": {},
   "outputs": [
    {
     "data": {
      "text/plain": [
       "array([5., 0., 1.])"
      ]
     },
     "metadata": {},
     "output_type": "display_data"
    },
    {
     "data": {
      "text/plain": [
       "array([[ 0.89442719, -0.4472136 ,  0.        ],\n",
       "       [ 0.        ,  0.        ,  1.        ],\n",
       "       [ 0.4472136 ,  0.89442719,  0.        ]])"
      ]
     },
     "metadata": {},
     "output_type": "display_data"
    }
   ],
   "source": [
    "eigw, eigv = np.linalg.eig(M)\n",
    "display(eigw, eigv)"
   ]
  },
  {
   "cell_type": "code",
   "execution_count": 20,
   "id": "3f3a3837",
   "metadata": {},
   "outputs": [
    {
     "data": {
      "text/plain": [
       "array([[ 0.89442719,  0.        ,  0.4472136 ],\n",
       "       [-0.4472136 ,  0.        ,  0.89442719],\n",
       "       [ 0.        ,  1.        ,  0.        ]])"
      ]
     },
     "execution_count": 20,
     "metadata": {},
     "output_type": "execute_result"
    }
   ],
   "source": [
    "# Basistransformation\n",
    "T = eigv\n",
    "T_inv = np.linalg.inv(eigv)\n",
    "T_inv"
   ]
  },
  {
   "cell_type": "code",
   "execution_count": 22,
   "id": "d86d7fb1",
   "metadata": {},
   "outputs": [
    {
     "data": {
      "text/plain": [
       "array([[5., 0., 0.],\n",
       "       [0., 0., 0.],\n",
       "       [0., 0., 1.]])"
      ]
     },
     "execution_count": 22,
     "metadata": {},
     "output_type": "execute_result"
    }
   ],
   "source": [
    "Ab = T_inv @ M @ T\n",
    "Ab"
   ]
  },
  {
   "cell_type": "code",
   "execution_count": 24,
   "id": "f7a0c104",
   "metadata": {},
   "outputs": [
    {
     "data": {
      "text/latex": [
       "$\\displaystyle \\left[\\begin{matrix}5.0 & 0 & 0\\\\0 & 0 & 0\\\\0 & 0 & 1.0\\end{matrix}\\right]$"
      ],
      "text/plain": [
       "Matrix([\n",
       "[5.0, 0,   0],\n",
       "[  0, 0,   0],\n",
       "[  0, 0, 1.0]])"
      ]
     },
     "execution_count": 24,
     "metadata": {},
     "output_type": "execute_result"
    }
   ],
   "source": [
    "Ab_sym = sym.Matrix(Ab)\n",
    "Ab_sym"
   ]
  },
  {
   "cell_type": "code",
   "execution_count": 27,
   "id": "2ed70bb6",
   "metadata": {},
   "outputs": [
    {
     "data": {
      "text/latex": [
       "$\\displaystyle \\left[\\begin{matrix}5.0 x^{2} + 1.0 z^{2}\\end{matrix}\\right]$"
      ],
      "text/plain": [
       "Matrix([[5.0*x**2 + 1.0*z**2]])"
      ]
     },
     "execution_count": 27,
     "metadata": {},
     "output_type": "execute_result"
    }
   ],
   "source": [
    "xvT * Ab_sym * xv"
   ]
  },
  {
   "cell_type": "code",
   "execution_count": null,
   "id": "a52a97b8",
   "metadata": {},
   "outputs": [],
   "source": []
  },
  {
   "cell_type": "code",
   "execution_count": null,
   "id": "87fe0a07",
   "metadata": {},
   "outputs": [],
   "source": []
  },
  {
   "cell_type": "code",
   "execution_count": null,
   "id": "6bebf0cf",
   "metadata": {},
   "outputs": [],
   "source": []
  }
 ],
 "metadata": {
  "kernelspec": {
   "display_name": "Python 3 (ipykernel)",
   "language": "python",
   "name": "python3"
  },
  "language_info": {
   "codemirror_mode": {
    "name": "ipython",
    "version": 3
   },
   "file_extension": ".py",
   "mimetype": "text/x-python",
   "name": "python",
   "nbconvert_exporter": "python",
   "pygments_lexer": "ipython3",
   "version": "3.9.7"
  }
 },
 "nbformat": 4,
 "nbformat_minor": 5
}
