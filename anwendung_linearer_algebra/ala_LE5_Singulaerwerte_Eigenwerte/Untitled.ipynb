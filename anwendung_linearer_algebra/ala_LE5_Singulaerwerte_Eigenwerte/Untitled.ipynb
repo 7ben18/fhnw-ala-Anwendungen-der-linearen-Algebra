{
 "cells": [
  {
   "cell_type": "code",
   "execution_count": 1,
   "id": "b33d1618",
   "metadata": {},
   "outputs": [],
   "source": [
    "import numpy as np"
   ]
  },
  {
   "cell_type": "code",
   "execution_count": 18,
   "id": "635088fd",
   "metadata": {},
   "outputs": [
    {
     "data": {
      "text/plain": [
       "array([[ 4, 12],\n",
       "       [12, 11]])"
      ]
     },
     "execution_count": 18,
     "metadata": {},
     "output_type": "execute_result"
    }
   ],
   "source": [
    "M = np.array([[4,12],[12,11]])\n",
    "M"
   ]
  },
  {
   "cell_type": "code",
   "execution_count": 22,
   "id": "fde2c547",
   "metadata": {},
   "outputs": [
    {
     "data": {
      "text/plain": [
       "array([ 25., 400.])"
      ]
     },
     "metadata": {},
     "output_type": "display_data"
    },
    {
     "data": {
      "text/plain": [
       "array([[-0.8, -0.6],\n",
       "       [ 0.6, -0.8]])"
      ]
     },
     "metadata": {},
     "output_type": "display_data"
    }
   ],
   "source": [
    "eigw, eigv = np.linalg.eig(M.T @ M)\n",
    "display(eigw, eigv)"
   ]
  },
  {
   "cell_type": "code",
   "execution_count": 23,
   "id": "5aa8fe54",
   "metadata": {},
   "outputs": [
    {
     "data": {
      "text/plain": [
       "array([[-0.6, -0.8],\n",
       "       [-0.8,  0.6]])"
      ]
     },
     "metadata": {},
     "output_type": "display_data"
    },
    {
     "data": {
      "text/plain": [
       "array([[20.,  0.],\n",
       "       [ 0.,  5.]])"
      ]
     },
     "metadata": {},
     "output_type": "display_data"
    },
    {
     "data": {
      "text/plain": [
       "array([[-0.6, -0.8],\n",
       "       [ 0.8, -0.6]])"
      ]
     },
     "metadata": {},
     "output_type": "display_data"
    }
   ],
   "source": [
    "S, V, D = np.linalg.svd(M)\n",
    "V = np.diag(V)\n",
    "display(S, V, D)"
   ]
  },
  {
   "cell_type": "code",
   "execution_count": 26,
   "id": "14300766",
   "metadata": {},
   "outputs": [
    {
     "data": {
      "text/plain": [
       "array([[ 10, 403, 233],\n",
       "       [342, 323, 432],\n",
       "       [ 23,  13,  23]])"
      ]
     },
     "execution_count": 26,
     "metadata": {},
     "output_type": "execute_result"
    }
   ],
   "source": [
    "A = np.array([[10,403,233,342,323,432,23,13,23]]).reshape(3,3)\n",
    "A"
   ]
  },
  {
   "cell_type": "code",
   "execution_count": 31,
   "id": "e07fd1eb",
   "metadata": {},
   "outputs": [],
   "source": [
    "eigwA = np.linalg.eigvals(A @ A.T)"
   ]
  },
  {
   "cell_type": "code",
   "execution_count": 34,
   "id": "95c46c60",
   "metadata": {},
   "outputs": [],
   "source": [
    "eigwA = eigwA ** 0.5"
   ]
  },
  {
   "cell_type": "code",
   "execution_count": 37,
   "id": "ed7c9355",
   "metadata": {},
   "outputs": [
    {
     "data": {
      "text/plain": [
       "array([[752.58833496,   0.        ,   0.        ],\n",
       "       [  0.        , 244.03291682,   0.        ],\n",
       "       [  0.        ,   0.        ,   0.8564965 ]])"
      ]
     },
     "execution_count": 37,
     "metadata": {},
     "output_type": "execute_result"
    }
   ],
   "source": [
    "np.diag(eigwA)"
   ]
  },
  {
   "cell_type": "code",
   "execution_count": 39,
   "id": "b2d588db",
   "metadata": {},
   "outputs": [
    {
     "name": "stdout",
     "output_type": "stream",
     "text": [
      "[[752.58833496   0.           0.        ]\n",
      " [  0.         244.03291682   0.        ]\n",
      " [  0.           0.           0.8564965 ]]\n"
     ]
    }
   ],
   "source": [
    "S, V, D = np.linalg.svd(A)\n",
    "print(np.diag(V))"
   ]
  },
  {
   "cell_type": "code",
   "execution_count": 29,
   "id": "41dec9ca",
   "metadata": {},
   "outputs": [
    {
     "data": {
      "text/plain": [
       "array([5.66389202e+05, 5.95520645e+04, 7.33586246e-01])"
      ]
     },
     "execution_count": 29,
     "metadata": {},
     "output_type": "execute_result"
    }
   ],
   "source": []
  },
  {
   "cell_type": "code",
   "execution_count": 43,
   "id": "7bcba741",
   "metadata": {},
   "outputs": [
    {
     "data": {
      "text/plain": [
       "array([[0, 0],\n",
       "       [0, 0]])"
      ]
     },
     "execution_count": 43,
     "metadata": {},
     "output_type": "execute_result"
    }
   ],
   "source": [
    "np.zeros_like(M)"
   ]
  },
  {
   "cell_type": "code",
   "execution_count": null,
   "id": "2af4eb07",
   "metadata": {},
   "outputs": [],
   "source": []
  },
  {
   "cell_type": "code",
   "execution_count": null,
   "id": "cd8f90ca",
   "metadata": {},
   "outputs": [],
   "source": []
  },
  {
   "cell_type": "code",
   "execution_count": null,
   "id": "9994597a",
   "metadata": {},
   "outputs": [],
   "source": []
  },
  {
   "cell_type": "code",
   "execution_count": null,
   "id": "46b4d067",
   "metadata": {},
   "outputs": [],
   "source": []
  },
  {
   "cell_type": "code",
   "execution_count": null,
   "id": "fceade9a",
   "metadata": {},
   "outputs": [],
   "source": []
  }
 ],
 "metadata": {
  "kernelspec": {
   "display_name": "Python 3 (ipykernel)",
   "language": "python",
   "name": "python3"
  },
  "language_info": {
   "codemirror_mode": {
    "name": "ipython",
    "version": 3
   },
   "file_extension": ".py",
   "mimetype": "text/x-python",
   "name": "python",
   "nbconvert_exporter": "python",
   "pygments_lexer": "ipython3",
   "version": "3.9.7"
  }
 },
 "nbformat": 4,
 "nbformat_minor": 5
}
