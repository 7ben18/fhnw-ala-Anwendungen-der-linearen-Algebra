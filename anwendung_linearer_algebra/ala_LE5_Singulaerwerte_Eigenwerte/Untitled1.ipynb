{
 "cells": [
  {
   "cell_type": "code",
   "execution_count": 1,
   "id": "64d64c78",
   "metadata": {},
   "outputs": [],
   "source": [
    "import numpy as np\n"
   ]
  },
  {
   "cell_type": "code",
   "execution_count": 2,
   "id": "65933192",
   "metadata": {},
   "outputs": [
    {
     "data": {
      "text/plain": [
       "array([[ 1,  2,  3],\n",
       "       [14, 13, 12]])"
      ]
     },
     "execution_count": 2,
     "metadata": {},
     "output_type": "execute_result"
    }
   ],
   "source": [
    "A = np.array([[1,2,3],[14,13,12]])\n",
    "A"
   ]
  },
  {
   "cell_type": "code",
   "execution_count": 3,
   "id": "a4ce95c0",
   "metadata": {},
   "outputs": [
    {
     "data": {
      "text/plain": [
       "array([  2.59412907, 520.40587093])"
      ]
     },
     "metadata": {},
     "output_type": "display_data"
    },
    {
     "data": {
      "text/plain": [
       "array([ 5.20405871e+02,  2.59412907e+00, -2.27551437e-14])"
      ]
     },
     "metadata": {},
     "output_type": "display_data"
    }
   ],
   "source": [
    "# Gesucht: Singulaerwerte von A\n",
    "eigenwerteATA = np.linalg.eigvals(A.T @ A)\n",
    "eigenwerteAAT = np.linalg.eigvals(A @ A.T)\n",
    "\n",
    "display(eigenwerteAAT, eigenwerteATA)"
   ]
  },
  {
   "cell_type": "code",
   "execution_count": 4,
   "id": "3c325ad2",
   "metadata": {},
   "outputs": [
    {
     "data": {
      "text/plain": [
       "array([ 1.61063002, 22.81240607])"
      ]
     },
     "execution_count": 4,
     "metadata": {},
     "output_type": "execute_result"
    }
   ],
   "source": [
    "eigenwerteAAT ** 0.5"
   ]
  },
  {
   "cell_type": "code",
   "execution_count": 5,
   "id": "0498bf37",
   "metadata": {},
   "outputs": [
    {
     "name": "stderr",
     "output_type": "stream",
     "text": [
      "C:\\Users\\Si Ben Tran\\AppData\\Local\\Temp\\ipykernel_2976\\4094295978.py:1: RuntimeWarning: invalid value encountered in sqrt\n",
      "  eigenwerteATA ** 0.5\n"
     ]
    },
    {
     "data": {
      "text/plain": [
       "array([22.81240607,  1.61063002,         nan])"
      ]
     },
     "execution_count": 5,
     "metadata": {},
     "output_type": "execute_result"
    }
   ],
   "source": [
    "eigenwerteATA ** 0.5"
   ]
  },
  {
   "cell_type": "code",
   "execution_count": 6,
   "id": "e8907e94",
   "metadata": {},
   "outputs": [
    {
     "data": {
      "text/plain": [
       "array([22.81240607,  1.61063002])"
      ]
     },
     "metadata": {},
     "output_type": "display_data"
    }
   ],
   "source": [
    "S, V, D = np.linalg.svd(A)\n",
    "display(V)"
   ]
  },
  {
   "cell_type": "code",
   "execution_count": null,
   "id": "dbe4fe63",
   "metadata": {},
   "outputs": [],
   "source": []
  },
  {
   "cell_type": "code",
   "execution_count": 15,
   "id": "99c3f7d1",
   "metadata": {},
   "outputs": [
    {
     "data": {
      "text/plain": [
       "array([[ 5,  0,  3],\n",
       "       [ 7,  1,  0],\n",
       "       [12,  0,  1]])"
      ]
     },
     "execution_count": 15,
     "metadata": {},
     "output_type": "execute_result"
    }
   ],
   "source": [
    "B = np.array([[5,0,3],[7,1,0],[12,0,1]])\n",
    "B"
   ]
  },
  {
   "cell_type": "code",
   "execution_count": 16,
   "id": "94a03bf6",
   "metadata": {},
   "outputs": [
    {
     "data": {
      "text/plain": [
       "array([ 1.        ,  9.32455532, -3.32455532])"
      ]
     },
     "execution_count": 16,
     "metadata": {},
     "output_type": "execute_result"
    }
   ],
   "source": [
    "eigwB = np.linalg.eigvals(B)\n",
    "eigwB"
   ]
  },
  {
   "cell_type": "code",
   "execution_count": 17,
   "id": "ae174484",
   "metadata": {},
   "outputs": [
    {
     "data": {
      "text/plain": [
       "array([ 1.        , 86.94733192, 11.05266808])"
      ]
     },
     "execution_count": 17,
     "metadata": {},
     "output_type": "execute_result"
    }
   ],
   "source": [
    "eigwB ** 2"
   ]
  },
  {
   "cell_type": "code",
   "execution_count": 18,
   "id": "54a6b787",
   "metadata": {},
   "outputs": [
    {
     "data": {
      "text/plain": [
       "array([14.8884572 ,  2.58560598,  0.80528508])"
      ]
     },
     "metadata": {},
     "output_type": "display_data"
    }
   ],
   "source": [
    "SB, VB, DB = np.linalg.svd(B)\n",
    "display(VB)"
   ]
  },
  {
   "cell_type": "code",
   "execution_count": 40,
   "id": "ca11650f",
   "metadata": {},
   "outputs": [
    {
     "data": {
      "text/plain": [
       "array([[ 4,  0,  0],\n",
       "       [ 0,  8,  0],\n",
       "       [ 0,  0, 10]])"
      ]
     },
     "execution_count": 40,
     "metadata": {},
     "output_type": "execute_result"
    }
   ],
   "source": [
    "T = np.diag([4,8,10])\n",
    "T"
   ]
  },
  {
   "cell_type": "code",
   "execution_count": 41,
   "id": "e9f0760e",
   "metadata": {},
   "outputs": [
    {
     "data": {
      "text/plain": [
       "array([ 4.,  8., 10.])"
      ]
     },
     "execution_count": 41,
     "metadata": {},
     "output_type": "execute_result"
    }
   ],
   "source": [
    "# Eigenwerte von T\n",
    "eigenwerteT = np.linalg.eigvals(T)\n",
    "eigenwerteT"
   ]
  },
  {
   "cell_type": "code",
   "execution_count": 42,
   "id": "0556cabb",
   "metadata": {},
   "outputs": [
    {
     "data": {
      "text/plain": [
       "array([[1., 0., 0.],\n",
       "       [0., 1., 0.],\n",
       "       [0., 0., 1.]])"
      ]
     },
     "execution_count": 42,
     "metadata": {},
     "output_type": "execute_result"
    }
   ],
   "source": [
    "# eigenvektoren \n",
    "eigw, eigv = np.linalg.eig(T)\n",
    "eigv"
   ]
  },
  {
   "cell_type": "code",
   "execution_count": null,
   "id": "a17cc9be",
   "metadata": {},
   "outputs": [],
   "source": []
  }
 ],
 "metadata": {
  "kernelspec": {
   "display_name": "Python 3 (ipykernel)",
   "language": "python",
   "name": "python3"
  },
  "language_info": {
   "codemirror_mode": {
    "name": "ipython",
    "version": 3
   },
   "file_extension": ".py",
   "mimetype": "text/x-python",
   "name": "python",
   "nbconvert_exporter": "python",
   "pygments_lexer": "ipython3",
   "version": "3.9.7"
  }
 },
 "nbformat": 4,
 "nbformat_minor": 5
}
