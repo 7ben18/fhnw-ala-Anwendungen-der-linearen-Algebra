{
 "cells": [
  {
   "cell_type": "code",
   "execution_count": 2,
   "id": "0a97b233",
   "metadata": {},
   "outputs": [],
   "source": [
    "import numpy as np\n",
    "import matplotlib.pyplot as plt\n",
    "import sympy as sym\n",
    "from scipy.linalg import expm"
   ]
  },
  {
   "cell_type": "code",
   "execution_count": 34,
   "id": "9c644599",
   "metadata": {},
   "outputs": [
    {
     "data": {
      "text/plain": [
       "array([[ 2.,  4.],\n",
       "       [-1.,  3.],\n",
       "       [ 0., -2.]])"
      ]
     },
     "execution_count": 34,
     "metadata": {},
     "output_type": "execute_result"
    }
   ],
   "source": [
    "A = np.array([[2.,4.],[-1.,3.],[0.,-2.]])\n",
    "A"
   ]
  },
  {
   "cell_type": "code",
   "execution_count": 35,
   "id": "9551753d",
   "metadata": {},
   "outputs": [
    {
     "data": {
      "text/plain": [
       "array([5.47722558, 2.        ])"
      ]
     },
     "metadata": {},
     "output_type": "display_data"
    }
   ],
   "source": [
    "S, V, D = np.linalg.svd(A)\n",
    "display(V)"
   ]
  },
  {
   "cell_type": "code",
   "execution_count": 36,
   "id": "2e631992",
   "metadata": {},
   "outputs": [],
   "source": [
    "V = np.diag(V)\n"
   ]
  },
  {
   "cell_type": "code",
   "execution_count": 37,
   "id": "3f51a295",
   "metadata": {},
   "outputs": [
    {
     "data": {
      "text/plain": [
       "array([[5.47722558, 0.        ],\n",
       "       [0.        , 2.        ]])"
      ]
     },
     "execution_count": 37,
     "metadata": {},
     "output_type": "execute_result"
    }
   ],
   "source": [
    "V"
   ]
  },
  {
   "cell_type": "code",
   "execution_count": 38,
   "id": "7f8b45f3",
   "metadata": {},
   "outputs": [
    {
     "data": {
      "text/plain": [
       "array([[0.18257419, 0.        ],\n",
       "       [0.        , 0.5       ]])"
      ]
     },
     "execution_count": 38,
     "metadata": {},
     "output_type": "execute_result"
    }
   ],
   "source": [
    "V_inv = np.linalg.inv(V)\n",
    "V_inv"
   ]
  },
  {
   "cell_type": "code",
   "execution_count": 44,
   "id": "6b4d8b96",
   "metadata": {},
   "outputs": [
    {
     "data": {
      "text/plain": [
       "(3, 3)"
      ]
     },
     "execution_count": 44,
     "metadata": {},
     "output_type": "execute_result"
    }
   ],
   "source": [
    "S.shape"
   ]
  },
  {
   "cell_type": "code",
   "execution_count": 54,
   "id": "66759c66",
   "metadata": {},
   "outputs": [
    {
     "data": {
      "text/plain": [
       "array([[ 0.31666667, -0.36666667,  0.08333333],\n",
       "       [ 0.08333333,  0.16666667, -0.08333333]])"
      ]
     },
     "execution_count": 54,
     "metadata": {},
     "output_type": "execute_result"
    }
   ],
   "source": [
    "Aplus = D.T @ V_inv @ S.T[:2,:]\n",
    "Aplus"
   ]
  },
  {
   "cell_type": "code",
   "execution_count": 51,
   "id": "0ad07cbc",
   "metadata": {},
   "outputs": [
    {
     "data": {
      "text/plain": [
       "array([[ 0.31666667, -0.36666667,  0.08333333],\n",
       "       [ 0.08333333,  0.16666667, -0.08333333]])"
      ]
     },
     "execution_count": 51,
     "metadata": {},
     "output_type": "execute_result"
    }
   ],
   "source": [
    "Aplus = np.linalg.pinv(A)\n",
    "Aplus"
   ]
  },
  {
   "cell_type": "code",
   "execution_count": 55,
   "id": "c0dc3aff",
   "metadata": {},
   "outputs": [
    {
     "data": {
      "text/plain": [
       "array([[ 1.00000000e+00, -4.16333634e-16],\n",
       "       [-2.77555756e-17,  1.00000000e+00]])"
      ]
     },
     "execution_count": 55,
     "metadata": {},
     "output_type": "execute_result"
    }
   ],
   "source": [
    "Aplus @ A"
   ]
  },
  {
   "cell_type": "code",
   "execution_count": 56,
   "id": "4eed5fcb",
   "metadata": {},
   "outputs": [
    {
     "data": {
      "text/plain": [
       "array([[ 0.96666667, -0.06666667, -0.16666667],\n",
       "       [-0.06666667,  0.86666667, -0.33333333],\n",
       "       [-0.16666667, -0.33333333,  0.16666667]])"
      ]
     },
     "execution_count": 56,
     "metadata": {},
     "output_type": "execute_result"
    }
   ],
   "source": [
    "A @ Aplus"
   ]
  },
  {
   "cell_type": "code",
   "execution_count": 57,
   "id": "3f3580de",
   "metadata": {},
   "outputs": [
    {
     "data": {
      "text/plain": [
       "array([[ 2,  4],\n",
       "       [-1,  3],\n",
       "       [ 0, -2]])"
      ]
     },
     "execution_count": 57,
     "metadata": {},
     "output_type": "execute_result"
    }
   ],
   "source": [
    "B = np.array([[2,4],[-1,3],[0,-2]])\n",
    "v = np.array([1,2,3]).reshape(3,1)\n",
    "B"
   ]
  },
  {
   "cell_type": "code",
   "execution_count": 58,
   "id": "6e91b226",
   "metadata": {},
   "outputs": [
    {
     "data": {
      "text/plain": [
       "array([[1],\n",
       "       [2],\n",
       "       [3]])"
      ]
     },
     "execution_count": 58,
     "metadata": {},
     "output_type": "execute_result"
    }
   ],
   "source": [
    "v"
   ]
  },
  {
   "cell_type": "code",
   "execution_count": 59,
   "id": "ea57a640",
   "metadata": {},
   "outputs": [
    {
     "data": {
      "text/plain": [
       "array([[ 0.31666667, -0.36666667,  0.08333333],\n",
       "       [ 0.08333333,  0.16666667, -0.08333333]])"
      ]
     },
     "execution_count": 59,
     "metadata": {},
     "output_type": "execute_result"
    }
   ],
   "source": [
    "Binv = np.linalg.pinv(B)\n",
    "Binv"
   ]
  },
  {
   "cell_type": "code",
   "execution_count": 61,
   "id": "aac383f8",
   "metadata": {},
   "outputs": [
    {
     "data": {
      "text/plain": [
       "array([[-0.16666667],\n",
       "       [ 0.16666667]])"
      ]
     },
     "execution_count": 61,
     "metadata": {},
     "output_type": "execute_result"
    }
   ],
   "source": [
    "Binv @ v"
   ]
  },
  {
   "cell_type": "code",
   "execution_count": null,
   "id": "3b8703bd",
   "metadata": {},
   "outputs": [],
   "source": []
  },
  {
   "cell_type": "code",
   "execution_count": null,
   "id": "0b9e7e58",
   "metadata": {},
   "outputs": [],
   "source": []
  },
  {
   "cell_type": "code",
   "execution_count": null,
   "id": "54db6215",
   "metadata": {},
   "outputs": [],
   "source": []
  },
  {
   "cell_type": "code",
   "execution_count": null,
   "id": "56051c0d",
   "metadata": {},
   "outputs": [],
   "source": []
  },
  {
   "cell_type": "code",
   "execution_count": null,
   "id": "8cfe580c",
   "metadata": {},
   "outputs": [],
   "source": []
  },
  {
   "cell_type": "code",
   "execution_count": null,
   "id": "368d6132",
   "metadata": {},
   "outputs": [],
   "source": []
  },
  {
   "cell_type": "code",
   "execution_count": 12,
   "id": "fb09fa55",
   "metadata": {},
   "outputs": [
    {
     "data": {
      "text/plain": [
       "array([[ 3,  0,  0, -1],\n",
       "       [ 0,  3, -1,  0],\n",
       "       [ 0, -1,  3,  0],\n",
       "       [-1,  0,  0,  3]])"
      ]
     },
     "execution_count": 12,
     "metadata": {},
     "output_type": "execute_result"
    }
   ],
   "source": [
    "# Aufgabe 7\n",
    "A = np.array([[3,0,0,-1],[0,3,-1,0],[0,-1,3,0],[-1,0,0,3]])\n",
    "A"
   ]
  },
  {
   "cell_type": "code",
   "execution_count": 13,
   "id": "99a21f7c",
   "metadata": {},
   "outputs": [
    {
     "data": {
      "text/plain": [
       "array([[ 3,  0,  0, -1],\n",
       "       [ 0,  3, -1,  0],\n",
       "       [ 0, -1,  3,  0],\n",
       "       [-1,  0,  0,  3]])"
      ]
     },
     "execution_count": 13,
     "metadata": {},
     "output_type": "execute_result"
    }
   ],
   "source": [
    "A.T"
   ]
  },
  {
   "cell_type": "code",
   "execution_count": 15,
   "id": "0fc839b4",
   "metadata": {},
   "outputs": [
    {
     "data": {
      "text/plain": [
       "array([4., 2., 4., 2.])"
      ]
     },
     "metadata": {},
     "output_type": "display_data"
    },
    {
     "data": {
      "text/plain": [
       "array([[ 0.70710678,  0.70710678,  0.        ,  0.        ],\n",
       "       [ 0.        ,  0.        , -0.70710678,  0.70710678],\n",
       "       [ 0.        ,  0.        ,  0.70710678,  0.70710678],\n",
       "       [-0.70710678,  0.70710678,  0.        ,  0.        ]])"
      ]
     },
     "metadata": {},
     "output_type": "display_data"
    }
   ],
   "source": [
    "eigw, eigv = np.linalg.eig(A)\n",
    "display(eigw, eigv)"
   ]
  },
  {
   "cell_type": "code",
   "execution_count": 19,
   "id": "b1a8f63b",
   "metadata": {},
   "outputs": [
    {
     "data": {
      "text/plain": [
       "0.7071067811865475"
      ]
     },
     "execution_count": 19,
     "metadata": {},
     "output_type": "execute_result"
    }
   ],
   "source": [
    "1 / (2**0.5)"
   ]
  },
  {
   "cell_type": "code",
   "execution_count": null,
   "id": "5f805970",
   "metadata": {},
   "outputs": [],
   "source": []
  },
  {
   "cell_type": "code",
   "execution_count": null,
   "id": "2ca63f05",
   "metadata": {},
   "outputs": [],
   "source": []
  },
  {
   "cell_type": "code",
   "execution_count": null,
   "id": "4ad552cd",
   "metadata": {},
   "outputs": [],
   "source": []
  },
  {
   "cell_type": "code",
   "execution_count": null,
   "id": "47131370",
   "metadata": {},
   "outputs": [],
   "source": []
  },
  {
   "cell_type": "code",
   "execution_count": null,
   "id": "30defd02",
   "metadata": {},
   "outputs": [],
   "source": []
  },
  {
   "cell_type": "code",
   "execution_count": null,
   "id": "bef82e2f",
   "metadata": {},
   "outputs": [],
   "source": []
  },
  {
   "cell_type": "code",
   "execution_count": null,
   "id": "245c1140",
   "metadata": {},
   "outputs": [],
   "source": []
  }
 ],
 "metadata": {
  "kernelspec": {
   "display_name": "Python 3 (ipykernel)",
   "language": "python",
   "name": "python3"
  },
  "language_info": {
   "codemirror_mode": {
    "name": "ipython",
    "version": 3
   },
   "file_extension": ".py",
   "mimetype": "text/x-python",
   "name": "python",
   "nbconvert_exporter": "python",
   "pygments_lexer": "ipython3",
   "version": "3.9.7"
  }
 },
 "nbformat": 4,
 "nbformat_minor": 5
}
