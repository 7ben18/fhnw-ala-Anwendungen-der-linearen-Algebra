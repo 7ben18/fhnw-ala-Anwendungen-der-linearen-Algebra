{
 "cells": [
  {
   "cell_type": "markdown",
   "id": "fcb0cbdc",
   "metadata": {},
   "source": [
    "# ala Python Zusammenfassung"
   ]
  },
  {
   "cell_type": "code",
   "execution_count": 1,
   "id": "5b8a7328",
   "metadata": {},
   "outputs": [],
   "source": [
    "import numpy as np\n",
    "import matplotlib.pyplot as plt\n",
    "import sympy as sym"
   ]
  },
  {
   "cell_type": "markdown",
   "id": "00438928",
   "metadata": {},
   "source": [
    "## LE1 Eigenvektoren, Eigenwerte, Eigenraeume"
   ]
  },
  {
   "cell_type": "code",
   "execution_count": 2,
   "id": "d6f9ed75",
   "metadata": {},
   "outputs": [
    {
     "data": {
      "text/plain": [
       "array([[ 2,  5],\n",
       "       [ 8, 10]])"
      ]
     },
     "execution_count": 2,
     "metadata": {},
     "output_type": "execute_result"
    }
   ],
   "source": [
    "M = np.array([[2,5],[8,10]])\n",
    "M"
   ]
  },
  {
   "cell_type": "markdown",
   "id": "347f51f6",
   "metadata": {},
   "source": [
    "### Eigenwerte und Eigenvektoren bestimmen"
   ]
  },
  {
   "cell_type": "code",
   "execution_count": 3,
   "id": "62878fe5",
   "metadata": {},
   "outputs": [
    {
     "data": {
      "text/plain": [
       "array([-1.48331477, 13.48331477])"
      ]
     },
     "metadata": {},
     "output_type": "display_data"
    },
    {
     "data": {
      "text/plain": [
       "array([[-0.82051622, -0.39921318],\n",
       "       [ 0.57162325, -0.91685813]])"
      ]
     },
     "metadata": {},
     "output_type": "display_data"
    }
   ],
   "source": [
    "# Eigenwerte und Eigenvektoren bestimmen\n",
    "eigenwerteM, eigenvektorenM = np.linalg.eig(M)\n",
    "display(eigenwerteM, eigenvektorenM)"
   ]
  },
  {
   "cell_type": "code",
   "execution_count": 4,
   "id": "26fdf615",
   "metadata": {},
   "outputs": [
    {
     "data": {
      "text/plain": [
       "array([-0.82051622,  0.57162325])"
      ]
     },
     "metadata": {},
     "output_type": "display_data"
    },
    {
     "data": {
      "text/plain": [
       "array([-0.39921318, -0.91685813])"
      ]
     },
     "metadata": {},
     "output_type": "display_data"
    }
   ],
   "source": [
    "# beide Eigenvektoren\n",
    "v1 = eigenvektorenM[ : , 0]\n",
    "v2 = eigenvektorenM[ : , 1]\n",
    "display(v1, v2)"
   ]
  },
  {
   "cell_type": "code",
   "execution_count": 5,
   "id": "30da5c1a",
   "metadata": {},
   "outputs": [
    {
     "data": {
      "image/png": "[encoded data removed]",
      "text/plain": [
       "<Figure size 720x360 with 1 Axes>"
      ]
     },
     "metadata": {
      "needs_background": "light"
     },
     "output_type": "display_data"
    }
   ],
   "source": [
    "# Eigenvektoren visuell darstellen\n",
    "plt.figure(figsize=(10,5))\n",
    "plt.plot( [0, v1[0] * 20], [0, v1[1] * 20], color = \"b\", label = \"Eigenvektor1\")\n",
    "plt.plot( [0, v2[0] * 20], [0, v2[1] * 20], color = \"r\", label = \"Eigenvektor2\")\n",
    "plt.grid()\n",
    "plt.gca().set_aspect(\"equal\")\n",
    "plt.legend()\n",
    "plt.title(\"Visuelle darstellung der Eigenvektoren\")\n",
    "plt.show()"
   ]
  },
  {
   "cell_type": "markdown",
   "id": "1fa0feef",
   "metadata": {},
   "source": [
    "### Diagonalisierung einer nicht symmetrische Matrix "
   ]
  },
  {
   "cell_type": "code",
   "execution_count": 6,
   "id": "b50e3539",
   "metadata": {},
   "outputs": [
    {
     "data": {
      "text/plain": [
       "array([[ 0.,  0., -2.],\n",
       "       [ 1.,  2.,  1.],\n",
       "       [ 1.,  0.,  3.]])"
      ]
     },
     "execution_count": 6,
     "metadata": {},
     "output_type": "execute_result"
    }
   ],
   "source": [
    "M = np.array([[0.,0.,-2.],[1.,2.,1.],[1.,0.,3.]])\n",
    "M"
   ]
  },
  {
   "cell_type": "code",
   "execution_count": 7,
   "id": "a8e2f8c9",
   "metadata": {},
   "outputs": [
    {
     "data": {
      "text/plain": [
       "array([2., 1., 2.])"
      ]
     },
     "metadata": {},
     "output_type": "display_data"
    },
    {
     "data": {
      "text/plain": [
       "array([[ 0.        , -0.81649658,  0.70710678],\n",
       "       [ 1.        ,  0.40824829,  0.        ],\n",
       "       [ 0.        ,  0.40824829, -0.70710678]])"
      ]
     },
     "metadata": {},
     "output_type": "display_data"
    }
   ],
   "source": [
    "# Eigenwerte und Eigenvektoren bestimmen\n",
    "eigenwerteM, eigenvektorenM = np.linalg.eig(M)\n",
    "display(eigenwerteM, eigenvektorenM)"
   ]
  },
  {
   "cell_type": "code",
   "execution_count": 8,
   "id": "edf7db69",
   "metadata": {},
   "outputs": [
    {
     "data": {
      "text/plain": [
       "array([[2., 0., 0.],\n",
       "       [0., 1., 0.],\n",
       "       [0., 0., 2.]])"
      ]
     },
     "metadata": {},
     "output_type": "display_data"
    }
   ],
   "source": [
    "# Eigenwerte in eine Diagonalmatrix bringen\n",
    "D = np.diag(eigenwerteM)\n",
    "display(D)"
   ]
  },
  {
   "cell_type": "code",
   "execution_count": 9,
   "id": "a50f230f",
   "metadata": {},
   "outputs": [
    {
     "data": {
      "text/plain": [
       "array([[ 0.        , -0.81649658,  0.70710678],\n",
       "       [ 1.        ,  0.40824829,  0.        ],\n",
       "       [ 0.        ,  0.40824829, -0.70710678]])"
      ]
     },
     "metadata": {},
     "output_type": "display_data"
    }
   ],
   "source": [
    "# Basis der Eigenvektoren\n",
    "S = eigenvektorenM\n",
    "display(S)"
   ]
  },
  {
   "cell_type": "code",
   "execution_count": 10,
   "id": "00c9d255",
   "metadata": {},
   "outputs": [
    {
     "data": {
      "text/plain": [
       "array([[ 1.        ,  1.        ,  1.        ],\n",
       "       [-2.44948974, -0.        , -2.44948974],\n",
       "       [-1.41421356, -0.        , -2.82842712]])"
      ]
     },
     "execution_count": 10,
     "metadata": {},
     "output_type": "execute_result"
    }
   ],
   "source": [
    "# Inverse der Basis der Eigenvektoren berechnen\n",
    "S_inv = np.linalg.inv(S)\n",
    "S_inv"
   ]
  },
  {
   "cell_type": "code",
   "execution_count": 11,
   "id": "8f2a1e0e",
   "metadata": {},
   "outputs": [
    {
     "data": {
      "text/plain": [
       "array([[ 0.,  0., -2.],\n",
       "       [ 1.,  2.,  1.],\n",
       "       [ 1.,  0.,  3.]])"
      ]
     },
     "execution_count": 11,
     "metadata": {},
     "output_type": "execute_result"
    }
   ],
   "source": [
    "# Zusammenfuehren aller Matrzen:  S D S_inv = M \n",
    "M_recon = np.round(S @ D @ S_inv)\n",
    "M_recon"
   ]
  },
  {
   "cell_type": "code",
   "execution_count": 12,
   "id": "bc55f5ca",
   "metadata": {},
   "outputs": [
    {
     "data": {
      "text/plain": [
       "True"
      ]
     },
     "execution_count": 12,
     "metadata": {},
     "output_type": "execute_result"
    }
   ],
   "source": [
    "# Ueberpruefen ob M und M_recon identisch Elemente haben\n",
    "(M==M_recon).all()"
   ]
  },
  {
   "cell_type": "markdown",
   "id": "e609b4c3",
   "metadata": {},
   "source": [
    "### Diagonalisierung einer symmetrische Matrix"
   ]
  },
  {
   "cell_type": "code",
   "execution_count": 13,
   "id": "c815d54e",
   "metadata": {},
   "outputs": [
    {
     "data": {
      "text/plain": [
       "array([[93., 10., 20.],\n",
       "       [10., 42., 30.],\n",
       "       [20., 30., 56.]])"
      ]
     },
     "execution_count": 13,
     "metadata": {},
     "output_type": "execute_result"
    }
   ],
   "source": [
    "M = np.array([[93.,10.,20.],[10.,42.,30.],[20.,30.,56.]])\n",
    "M"
   ]
  },
  {
   "cell_type": "code",
   "execution_count": 14,
   "id": "69b59c59",
   "metadata": {},
   "outputs": [
    {
     "data": {
      "text/plain": [
       "array([109.4080777,  63.7115851,  17.8803372])"
      ]
     },
     "metadata": {},
     "output_type": "display_data"
    },
    {
     "data": {
      "text/plain": [
       "array([[ 0.80347987,  0.59142826, -0.06806398],\n",
       "       [ 0.33746861, -0.54665882, -0.76634136],\n",
       "       [ 0.49044371, -0.5927704 ,  0.63881783]])"
      ]
     },
     "metadata": {},
     "output_type": "display_data"
    }
   ],
   "source": [
    "# Eigenwerte und Eigenvektoren bestimmen\n",
    "eigenM, eigenvM = np.linalg.eig(M)\n",
    "display(eigenM, eigenvM)"
   ]
  },
  {
   "cell_type": "code",
   "execution_count": 15,
   "id": "163732b4",
   "metadata": {},
   "outputs": [
    {
     "data": {
      "text/plain": [
       "array([[109.4080777,   0.       ,   0.       ],\n",
       "       [  0.       ,  63.7115851,   0.       ],\n",
       "       [  0.       ,   0.       ,  17.8803372]])"
      ]
     },
     "execution_count": 15,
     "metadata": {},
     "output_type": "execute_result"
    }
   ],
   "source": [
    "# Diagonalmatrix aus Eigenwerte erstellen\n",
    "D = np.diag(eigenM)\n",
    "D"
   ]
  },
  {
   "cell_type": "code",
   "execution_count": 16,
   "id": "49b12bb8",
   "metadata": {},
   "outputs": [
    {
     "data": {
      "text/plain": [
       "array([[ 0.80347987,  0.59142826, -0.06806398],\n",
       "       [ 0.33746861, -0.54665882, -0.76634136],\n",
       "       [ 0.49044371, -0.5927704 ,  0.63881783]])"
      ]
     },
     "execution_count": 16,
     "metadata": {},
     "output_type": "execute_result"
    }
   ],
   "source": [
    "# Basis der Eigenvektoren M bestimmen\n",
    "S = eigenvM\n",
    "S"
   ]
  },
  {
   "cell_type": "code",
   "execution_count": 17,
   "id": "0243a851",
   "metadata": {},
   "outputs": [
    {
     "data": {
      "text/plain": [
       "array([[ 0.80347987,  0.33746861,  0.49044371],\n",
       "       [ 0.59142826, -0.54665882, -0.5927704 ],\n",
       "       [-0.06806398, -0.76634136,  0.63881783]])"
      ]
     },
     "execution_count": 17,
     "metadata": {},
     "output_type": "execute_result"
    }
   ],
   "source": [
    "# Inverse der Basis bestimmen (Transponieren der Basis der Eigenvektoren)\n",
    "S_T = eigenvM.T\n",
    "S_T"
   ]
  },
  {
   "cell_type": "code",
   "execution_count": 18,
   "id": "6fbdd1f6",
   "metadata": {},
   "outputs": [
    {
     "data": {
      "text/plain": [
       "array([[ 1., -0.,  0.],\n",
       "       [-0.,  1., -0.],\n",
       "       [ 0., -0.,  1.]])"
      ]
     },
     "execution_count": 18,
     "metadata": {},
     "output_type": "execute_result"
    }
   ],
   "source": [
    "# Ueberpruefen, ob die Basis der Eigenvektoren Orthogonal zueinander sind (Senkrecht und die Laenge 1) \n",
    "# S @ S.T  = I\n",
    "# Eine Eigenschaft einer Symmetrischen Matrix! \n",
    "np.round(S @ S_T)"
   ]
  },
  {
   "cell_type": "code",
   "execution_count": 19,
   "id": "2dae4f78",
   "metadata": {},
   "outputs": [
    {
     "data": {
      "text/plain": [
       "array([[93., 10., 20.],\n",
       "       [10., 42., 30.],\n",
       "       [20., 30., 56.]])"
      ]
     },
     "execution_count": 19,
     "metadata": {},
     "output_type": "execute_result"
    }
   ],
   "source": [
    "# M rekonstruieren S @ D @ S.T = M\n",
    "M_recon = np.round(S @ D @ S_T)\n",
    "M_recon"
   ]
  },
  {
   "cell_type": "code",
   "execution_count": 20,
   "id": "4f230cfc",
   "metadata": {},
   "outputs": [
    {
     "data": {
      "text/plain": [
       "True"
      ]
     },
     "execution_count": 20,
     "metadata": {},
     "output_type": "execute_result"
    }
   ],
   "source": [
    "# Ueberpruefen, ob alle Elemente der Matrix identisch sind (M == M_recon)\n",
    "(M==M_recon).all()"
   ]
  },
  {
   "cell_type": "markdown",
   "id": "fac90170",
   "metadata": {},
   "source": [
    "## LE2 Vertiefung lineare Abbildungen und Matrizenalgebra"
   ]
  },
  {
   "cell_type": "code",
   "execution_count": 21,
   "id": "ca07856c",
   "metadata": {},
   "outputs": [
    {
     "data": {
      "text/latex": [
       "$\\displaystyle \\left[\\begin{matrix}1.0 & 2.0 & -1.0\\\\0 & 1.0 & 1.0\\\\1.0 & 1.0 & -2.0\\end{matrix}\\right]$"
      ],
      "text/plain": [
       "Matrix([\n",
       "[1.0, 2.0, -1.0],\n",
       "[  0, 1.0,  1.0],\n",
       "[1.0, 1.0, -2.0]])"
      ]
     },
     "metadata": {},
     "output_type": "display_data"
    },
    {
     "data": {
      "text/latex": [
       "$\\displaystyle \\left[\\begin{matrix}0 & 1\\\\1 & 0\\\\0 & 1\\end{matrix}\\right]$"
      ],
      "text/plain": [
       "Matrix([\n",
       "[0, 1],\n",
       "[1, 0],\n",
       "[0, 1]])"
      ]
     },
     "metadata": {},
     "output_type": "display_data"
    }
   ],
   "source": [
    "M = sym.Matrix([[1.,2.,-1.],[0.,1.,1.],[1.,1.,-2.]])\n",
    "\n",
    "B = sym.Matrix([[0,1],[1,0],[0,1]])\n",
    "\n",
    "display(M, B)"
   ]
  },
  {
   "cell_type": "code",
   "execution_count": 22,
   "id": "b07e5ba8",
   "metadata": {},
   "outputs": [],
   "source": [
    "x, y, z = sym.symbols(\"x y z\")"
   ]
  },
  {
   "cell_type": "markdown",
   "id": "8cf2134a",
   "metadata": {},
   "source": [
    "### Kern einer Matrix"
   ]
  },
  {
   "cell_type": "code",
   "execution_count": 23,
   "id": "b873978c",
   "metadata": {},
   "outputs": [
    {
     "name": "stdout",
     "output_type": "stream",
     "text": [
      "[Matrix([\n",
      "[ 3.0],\n",
      "[-1.0],\n",
      "[   1]])]\n",
      "[]\n"
     ]
    }
   ],
   "source": [
    "# der Kern einer Matrix ist die Menge aller Vekotren die mit der Matrix berechnet: M @ x = 0\n",
    "# den Nullvektoren ergibt. (Wir bestimmen die Menge aller Vektoren x)\n",
    "print(M.nullspace())\n",
    "print(B.nullspace())"
   ]
  },
  {
   "cell_type": "code",
   "execution_count": 24,
   "id": "38e054af",
   "metadata": {},
   "outputs": [
    {
     "name": "stdout",
     "output_type": "stream",
     "text": [
      "[(3*z, -z, z)]\n"
     ]
    }
   ],
   "source": [
    "# oder mit einem Gleichungssystem fuer Matrix M\n",
    "eq1 = 1 * x + 2 * y - 1 * z\n",
    "eq2 = 0 * x + 1 * y + 1 * z\n",
    "eq3 = 1 * x + 1 * y - 2 * z\n",
    "lsg = sym.solve([eq1, eq2, eq2], [x, y, z], manual=True)\n",
    "print(lsg)"
   ]
  },
  {
   "cell_type": "code",
   "execution_count": 25,
   "id": "d884ed90",
   "metadata": {},
   "outputs": [
    {
     "name": "stdout",
     "output_type": "stream",
     "text": [
      "{y: 0, x: 0}\n"
     ]
    }
   ],
   "source": [
    "# oder mit einem Gleichugsystem fuer Matrix B\n",
    "eq1 = 0 * x + 1 * y\n",
    "eq2 = 1 * x + 0 * y\n",
    "eq3 = 0 * x + 1 * y\n",
    "lsg = sym.solve([eq1, eq2, eq2], [x, y, z], manual=True)\n",
    "print(lsg)"
   ]
  },
  {
   "cell_type": "markdown",
   "id": "ab905344",
   "metadata": {},
   "source": [
    "### Bild einer Matrix"
   ]
  },
  {
   "cell_type": "code",
   "execution_count": 26,
   "id": "d59ae957",
   "metadata": {},
   "outputs": [
    {
     "name": "stdout",
     "output_type": "stream",
     "text": [
      "[Matrix([\n",
      "[1.0],\n",
      "[  0],\n",
      "[1.0]]), Matrix([\n",
      "[2.0],\n",
      "[1.0],\n",
      "[1.0]])]\n",
      "[Matrix([\n",
      "[0],\n",
      "[1],\n",
      "[0]]), Matrix([\n",
      "[1],\n",
      "[0],\n",
      "[1]])]\n"
     ]
    }
   ],
   "source": [
    "# das Bild einer Matrix sind unabhaehngige Spaltenvektoren! \n",
    "print(M.columnspace())\n",
    "print(B.columnspace())"
   ]
  },
  {
   "cell_type": "code",
   "execution_count": 27,
   "id": "45fefc1e",
   "metadata": {},
   "outputs": [
    {
     "data": {
      "text/latex": [
       "$\\displaystyle \\left[\\begin{matrix}1.0 & 2.0 & -1.0\\\\0 & 1.0 & 1.0\\\\1.0 & 1.0 & -2.0\\end{matrix}\\right]$"
      ],
      "text/plain": [
       "Matrix([\n",
       "[1.0, 2.0, -1.0],\n",
       "[  0, 1.0,  1.0],\n",
       "[1.0, 1.0, -2.0]])"
      ]
     },
     "metadata": {},
     "output_type": "display_data"
    },
    {
     "data": {
      "text/latex": [
       "$\\displaystyle \\left[\\begin{matrix}1.0 & 0 & 1.0\\\\2.0 & 1.0 & 1.0\\\\-1.0 & 1.0 & -2.0\\end{matrix}\\right]$"
      ],
      "text/plain": [
       "Matrix([\n",
       "[ 1.0,   0,  1.0],\n",
       "[ 2.0, 1.0,  1.0],\n",
       "[-1.0, 1.0, -2.0]])"
      ]
     },
     "metadata": {},
     "output_type": "display_data"
    },
    {
     "data": {
      "text/latex": [
       "$\\displaystyle \\left[\\begin{matrix}1 & 0 & 1.0\\\\0 & 1 & -1.0\\\\0 & 0 & 0\\end{matrix}\\right]$"
      ],
      "text/plain": [
       "Matrix([\n",
       "[1, 0,  1.0],\n",
       "[0, 1, -1.0],\n",
       "[0, 0,    0]])"
      ]
     },
     "metadata": {},
     "output_type": "display_data"
    },
    {
     "data": {
      "text/latex": [
       "$\\displaystyle \\left[\\begin{matrix}1 & 0 & 0\\\\0 & 1 & 0\\\\1.0 & -1.0 & 0\\end{matrix}\\right]$"
      ],
      "text/plain": [
       "Matrix([\n",
       "[  1,    0, 0],\n",
       "[  0,    1, 0],\n",
       "[1.0, -1.0, 0]])"
      ]
     },
     "metadata": {},
     "output_type": "display_data"
    },
    {
     "data": {
      "text/latex": [
       "$\\displaystyle \\left[\\begin{matrix}1 & 0\\\\0 & 1\\\\1.0 & -1.0\\end{matrix}\\right]$"
      ],
      "text/plain": [
       "Matrix([\n",
       "[  1,    0],\n",
       "[  0,    1],\n",
       "[1.0, -1.0]])"
      ]
     },
     "metadata": {},
     "output_type": "display_data"
    }
   ],
   "source": [
    "# Oder mittels Gaus Jordan verfahren herausfinden, welche Spaltenvektoren unabhaengig voneinander sind. \n",
    "display(M)\n",
    "\n",
    "# Zuerst Matrix transponieren\n",
    "M_T = M.T\n",
    "display(M_T)\n",
    "\n",
    "# danach Gauss-jordan (rref())\n",
    "M_T_rref = M_T.rref()[0]\n",
    "display(M_T_rref)\n",
    "\n",
    "# Zueruck transponieren\n",
    "M_im = M_T_rref.T\n",
    "display(M_im)\n",
    "\n",
    "# Das Bild der Matrix M ist:\n",
    "M_image = M_im[ : , :2]\n",
    "display(M_image)"
   ]
  },
  {
   "cell_type": "markdown",
   "id": "e663a013",
   "metadata": {},
   "source": [
    "### e hoch eine Matrix (e^M)"
   ]
  },
  {
   "cell_type": "code",
   "execution_count": 28,
   "id": "e8c257b1",
   "metadata": {},
   "outputs": [
    {
     "data": {
      "text/plain": [
       "array([[ 0.,  5.],\n",
       "       [-1.,  6.]])"
      ]
     },
     "execution_count": 28,
     "metadata": {},
     "output_type": "execute_result"
    }
   ],
   "source": [
    "M = np.array([[0.,5.],[-1.,6.]])\n",
    "M"
   ]
  },
  {
   "cell_type": "code",
   "execution_count": 29,
   "id": "105c162d",
   "metadata": {},
   "outputs": [
    {
     "data": {
      "text/plain": [
       "array([1., 5.])"
      ]
     },
     "metadata": {},
     "output_type": "display_data"
    },
    {
     "data": {
      "text/plain": [
       "array([[-0.98058068, -0.70710678],\n",
       "       [-0.19611614, -0.70710678]])"
      ]
     },
     "metadata": {},
     "output_type": "display_data"
    }
   ],
   "source": [
    "# Diagonalisierung der Matrix durchfuheren\n",
    "eigenwM, eigenvM = np.linalg.eig(M)\n",
    "display(eigenwM, eigenvM)"
   ]
  },
  {
   "cell_type": "code",
   "execution_count": 30,
   "id": "63a16d9e",
   "metadata": {},
   "outputs": [
    {
     "data": {
      "text/plain": [
       "array([[-0.98058068, -0.70710678],\n",
       "       [-0.19611614, -0.70710678]])"
      ]
     },
     "metadata": {},
     "output_type": "display_data"
    },
    {
     "data": {
      "text/plain": [
       "array([[1., 0.],\n",
       "       [0., 5.]])"
      ]
     },
     "metadata": {},
     "output_type": "display_data"
    },
    {
     "data": {
      "text/plain": [
       "array([[-1.27475488,  1.27475488],\n",
       "       [ 0.35355339, -1.76776695]])"
      ]
     },
     "metadata": {},
     "output_type": "display_data"
    }
   ],
   "source": [
    "# Alle Matrizen definieren\n",
    "D = np.diag(eigenwM)\n",
    "S = eigenvM\n",
    "S_inv = np.linalg.inv(S)\n",
    "display(S, D, S_inv)"
   ]
  },
  {
   "cell_type": "code",
   "execution_count": 31,
   "id": "3dfe1c0b",
   "metadata": {},
   "outputs": [
    {
     "data": {
      "text/plain": [
       "array([[-0.,  5.],\n",
       "       [-1.,  6.]])"
      ]
     },
     "metadata": {},
     "output_type": "display_data"
    },
    {
     "data": {
      "text/plain": [
       "True"
      ]
     },
     "execution_count": 31,
     "metadata": {},
     "output_type": "execute_result"
    }
   ],
   "source": [
    "# Testen, ob die Rekonstruktion das Urspruengliche ergibt\n",
    "M_recon = np.round(S @ D @ S_inv)\n",
    "display(M_recon)\n",
    "\n",
    "(M == M_recon).all()"
   ]
  },
  {
   "cell_type": "code",
   "execution_count": 32,
   "id": "db81f71b",
   "metadata": {},
   "outputs": [
    {
     "data": {
      "text/plain": [
       "array([[  2.71828183,   0.        ],\n",
       "       [  0.        , 148.4131591 ]])"
      ]
     },
     "metadata": {},
     "output_type": "display_data"
    }
   ],
   "source": [
    "# e^A = e^(SDS^-1)\n",
    "# nun wollen wir aber e^A ausrechnen, dafuer modifizieren wir die Eigenwerte\n",
    "e_hoch_eigenwert = np.exp(eigenwM)\n",
    "eD = np.diag(e_hoch_eigenwert)\n",
    "display(eD)"
   ]
  },
  {
   "cell_type": "code",
   "execution_count": 33,
   "id": "0dd85ac0",
   "metadata": {},
   "outputs": [
    {
     "data": {
      "text/plain": [
       "array([[-34., 182.],\n",
       "       [-36., 185.]])"
      ]
     },
     "metadata": {},
     "output_type": "display_data"
    }
   ],
   "source": [
    "# Um nun e^A zu berechnen nutzen wir alle diese Matrizen.\n",
    "e_hoch_M = np.round(S @ eD @ S_inv)\n",
    "display(e_hoch_M)"
   ]
  },
  {
   "cell_type": "code",
   "execution_count": 34,
   "id": "31434caa",
   "metadata": {},
   "outputs": [
    {
     "data": {
      "text/plain": [
       "array([[-34., 182.],\n",
       "       [-36., 185.]])"
      ]
     },
     "metadata": {},
     "output_type": "display_data"
    }
   ],
   "source": [
    "# ALternativ koennen wir auch die funktion von scipy nutzen\n",
    "from scipy.linalg import expm\n",
    "e_M_check = np.round(expm(M))\n",
    "display(e_M_check)"
   ]
  },
  {
   "cell_type": "code",
   "execution_count": 35,
   "id": "49df7272",
   "metadata": {},
   "outputs": [
    {
     "data": {
      "text/plain": [
       "True"
      ]
     },
     "execution_count": 35,
     "metadata": {},
     "output_type": "execute_result"
    }
   ],
   "source": [
    "# ueberpruefen, ob das Resultat das gleiche ist\n",
    "(e_hoch_M == e_M_check).all()"
   ]
  },
  {
   "cell_type": "markdown",
   "id": "5baf7c4e",
   "metadata": {},
   "source": [
    "## LE 3 Basistransformationen"
   ]
  },
  {
   "cell_type": "markdown",
   "id": "0cd88c57",
   "metadata": {},
   "source": [
    "### Basistransformationen von Vektoren"
   ]
  },
  {
   "attachments": {
    "image-2.png": {
     "image/png": "[encoded data removed]"
    }
   },
   "cell_type": "markdown",
   "id": "ac4d42db",
   "metadata": {},
   "source": [
    "![image-2.png](attachment:image-2.png)"
   ]
  },
  {
   "cell_type": "code",
   "execution_count": 36,
   "id": "1c53e292",
   "metadata": {},
   "outputs": [
    {
     "data": {
      "text/plain": [
       "array([[1.],\n",
       "       [2.],\n",
       "       [3.]])"
      ]
     },
     "execution_count": 36,
     "metadata": {},
     "output_type": "execute_result"
    }
   ],
   "source": [
    "vector = np.array([[1.],[2.],[3.]])\n",
    "vector"
   ]
  },
  {
   "cell_type": "code",
   "execution_count": 37,
   "id": "fa931e1d",
   "metadata": {},
   "outputs": [
    {
     "data": {
      "text/plain": [
       "array([[1, 0, 0],\n",
       "       [0, 2, 0],\n",
       "       [0, 0, 3]])"
      ]
     },
     "execution_count": 37,
     "metadata": {},
     "output_type": "execute_result"
    }
   ],
   "source": [
    "Basis = np.array([[1,0,0],[0,2,0],[0,0,3]])\n",
    "Basis"
   ]
  },
  {
   "cell_type": "code",
   "execution_count": 38,
   "id": "8c77b572",
   "metadata": {},
   "outputs": [
    {
     "data": {
      "text/plain": [
       "array([[1.        , 0.        , 0.        ],\n",
       "       [0.        , 0.5       , 0.        ],\n",
       "       [0.        , 0.        , 0.33333333]])"
      ]
     },
     "execution_count": 38,
     "metadata": {},
     "output_type": "execute_result"
    }
   ],
   "source": [
    "Basis_inv = np.linalg.inv(Basis)\n",
    "Basis_inv"
   ]
  },
  {
   "cell_type": "code",
   "execution_count": 39,
   "id": "40a90fe9",
   "metadata": {},
   "outputs": [
    {
     "name": "stdout",
     "output_type": "stream",
     "text": [
      "[[1.]\n",
      " [1.]\n",
      " [1.]]\n"
     ]
    }
   ],
   "source": [
    "# Basistransformation durchfuehren\n",
    "vector_B = Basis_inv @ vector\n",
    "print(vector_B)"
   ]
  },
  {
   "cell_type": "markdown",
   "id": "f0ac5c46",
   "metadata": {},
   "source": [
    "### Basistransformationen von Matrizen"
   ]
  },
  {
   "attachments": {
    "image.png": {
     "image/png": "[encoded data removed]"
    }
   },
   "cell_type": "markdown",
   "id": "14731594",
   "metadata": {},
   "source": [
    "![image.png](attachment:image.png)"
   ]
  },
  {
   "cell_type": "code",
   "execution_count": 40,
   "id": "74d5724b",
   "metadata": {},
   "outputs": [
    {
     "data": {
      "text/plain": [
       "array([[ 1,  0],\n",
       "       [-1,  2]])"
      ]
     },
     "execution_count": 40,
     "metadata": {},
     "output_type": "execute_result"
    }
   ],
   "source": [
    "A = np.array([[1,0],[-1,2]])\n",
    "A"
   ]
  },
  {
   "cell_type": "code",
   "execution_count": 41,
   "id": "45d86873",
   "metadata": {},
   "outputs": [
    {
     "data": {
      "text/plain": [
       "array([[2, 0],\n",
       "       [1, 2]])"
      ]
     },
     "execution_count": 41,
     "metadata": {},
     "output_type": "execute_result"
    }
   ],
   "source": [
    "Basis = np.array([[2,0],[1,2]])\n",
    "Basis"
   ]
  },
  {
   "cell_type": "code",
   "execution_count": 42,
   "id": "6575757a",
   "metadata": {},
   "outputs": [
    {
     "data": {
      "text/plain": [
       "array([[ 0.5 ,  0.  ],\n",
       "       [-0.25,  0.5 ]])"
      ]
     },
     "execution_count": 42,
     "metadata": {},
     "output_type": "execute_result"
    }
   ],
   "source": [
    "Basis_inv = np.linalg.inv(Basis)\n",
    "Basis_inv"
   ]
  },
  {
   "cell_type": "code",
   "execution_count": 43,
   "id": "9ea4f2da",
   "metadata": {},
   "outputs": [
    {
     "data": {
      "text/plain": [
       "array([[ 1. ,  0. ],\n",
       "       [-0.5,  2. ]])"
      ]
     },
     "execution_count": 43,
     "metadata": {},
     "output_type": "execute_result"
    }
   ],
   "source": [
    "# Basistransformation einer Matrix durchfuheren\n",
    "Ab = Basis_inv @ A @ Basis\n",
    "Ab"
   ]
  },
  {
   "cell_type": "markdown",
   "id": "ba9e4766",
   "metadata": {},
   "source": [
    "### Quadratische Form und Basistransformation einer Matrix mit deren Eigenbasis"
   ]
  },
  {
   "cell_type": "code",
   "execution_count": 44,
   "id": "bb40677f",
   "metadata": {},
   "outputs": [
    {
     "data": {
      "text/plain": [
       "array([[x, y, z]], dtype=object)"
      ]
     },
     "metadata": {},
     "output_type": "display_data"
    },
    {
     "data": {
      "text/plain": [
       "array([[3, 2, 4],\n",
       "       [2, 0, 2],\n",
       "       [4, 2, 3]])"
      ]
     },
     "metadata": {},
     "output_type": "display_data"
    },
    {
     "data": {
      "text/plain": [
       "array([[x],\n",
       "       [y],\n",
       "       [z]], dtype=object)"
      ]
     },
     "metadata": {},
     "output_type": "display_data"
    }
   ],
   "source": [
    "# Vektoren und Matrix definieren fuer die Quadratische Form \n",
    "vector = np.array([[x],[y],[z]])\n",
    "vector_T = vector.T\n",
    "A = np.array([[3,2,4],[2,0,2],[4,2,3]])\n",
    "display(vector_T, A, vector)"
   ]
  },
  {
   "cell_type": "code",
   "execution_count": 45,
   "id": "efd396c2",
   "metadata": {},
   "outputs": [
    {
     "data": {
      "text/latex": [
       "$\\displaystyle \\left[\\left[\\begin{matrix}3 x^{2} + 4 x y + 8 x z + 4 y z + 3 z^{2}\\end{matrix}\\right]\\right]$"
      ],
      "text/plain": [
       "[[3*x**2 + 4*x*y + 8*x*z + 4*y*z + 3*z**2]]"
      ]
     },
     "execution_count": 45,
     "metadata": {},
     "output_type": "execute_result"
    }
   ],
   "source": [
    "# Die Quadratische Form ausrechnen\n",
    "sym.simplify(vector_T @ A @ vector)"
   ]
  },
  {
   "cell_type": "code",
   "execution_count": 46,
   "id": "23148da7",
   "metadata": {},
   "outputs": [
    {
     "data": {
      "text/plain": [
       "array([-1.,  8., -1.])"
      ]
     },
     "metadata": {},
     "output_type": "display_data"
    },
    {
     "data": {
      "text/plain": [
       "array([[-0.74535599,  0.66666667, -0.21539222],\n",
       "       [ 0.2981424 ,  0.33333333, -0.77010996],\n",
       "       [ 0.59628479,  0.66666667,  0.6004472 ]])"
      ]
     },
     "metadata": {},
     "output_type": "display_data"
    },
    {
     "data": {
      "text/plain": [
       "array([[-0.74535599,  0.56813204,  0.46128997],\n",
       "       [ 0.66666667,  0.33333333,  0.66666667],\n",
       "       [-0.        , -0.93428818,  0.46714409]])"
      ]
     },
     "metadata": {},
     "output_type": "display_data"
    }
   ],
   "source": [
    "# Wir wollen nun das Resultat vereinfachen, indem wir die Eigenbasis der Matrix mit sich selber transformieren. \n",
    "eigw, eigev = np.linalg.eig(A)\n",
    "Basis = eigev\n",
    "display(eigw)\n",
    "display(Basis)\n",
    "Basis_inv = np.linalg.inv(Basis)\n",
    "display(Basis_inv)"
   ]
  },
  {
   "cell_type": "code",
   "execution_count": 47,
   "id": "1d0ac7a0",
   "metadata": {},
   "outputs": [
    {
     "data": {
      "text/plain": [
       "array([[-1.,  0., -0.],\n",
       "       [-0.,  8., -0.],\n",
       "       [ 0.,  0., -1.]])"
      ]
     },
     "execution_count": 47,
     "metadata": {},
     "output_type": "execute_result"
    }
   ],
   "source": [
    "# Basistransofmration der Matrix A mit der Eigenbasis\n",
    "Ab = np.round(Basis_inv @ A @ Basis)\n",
    "Ab"
   ]
  },
  {
   "cell_type": "code",
   "execution_count": 48,
   "id": "b8b9cb05",
   "metadata": {},
   "outputs": [
    {
     "data": {
      "text/latex": [
       "$\\displaystyle \\left[\\left[\\begin{matrix}- 1.0 x^{2} + 8.0 y^{2} - 1.0 z^{2}\\end{matrix}\\right]\\right]$"
      ],
      "text/plain": [
       "[[-1.0*x**2 + 8.0*y**2 - 1.0*z**2]]"
      ]
     },
     "execution_count": 48,
     "metadata": {},
     "output_type": "execute_result"
    }
   ],
   "source": [
    "# Ausrechnen der Quadratische Form mit der Eigenbasis Transformation von A\n",
    "sym.simplify(vector_T @ Ab @ vector)"
   ]
  },
  {
   "cell_type": "markdown",
   "id": "57088c8d",
   "metadata": {},
   "source": [
    "### Hauptkomponentenanalyse (PCA) -> Aufgabe"
   ]
  },
  {
   "attachments": {
    "image.png": {
     "image/png": "[encoded data removed]"
    }
   },
   "cell_type": "markdown",
   "id": "f8c72103",
   "metadata": {},
   "source": [
    "![image.png](attachment:image.png)"
   ]
  },
  {
   "cell_type": "code",
   "execution_count": 49,
   "id": "66ced9de",
   "metadata": {},
   "outputs": [
    {
     "name": "stdout",
     "output_type": "stream",
     "text": [
      "(2, 20)\n"
     ]
    },
    {
     "data": {
      "text/plain": [
       "array([[-0.57091174, -1.01007461, -1.44923749,  1.18573976, -1.88840036,\n",
       "         1.18573976,  0.52699545,  1.18573976,  1.62490264, -2.1079818 ,\n",
       "        -0.3513303 ,  0.08783258,  0.74657689,  0.30741401,  0.30741401,\n",
       "         0.30741401, -0.3513303 , -0.3513303 ,  0.30741401,  0.30741401],\n",
       "       [-0.51124062, -0.92436435, -1.54404995,  1.45109711, -1.64733088,\n",
       "         1.24453524,  0.41828778,  0.93469244,  1.65765897, -2.16373555,\n",
       "         0.31500685, -0.20139782,  0.10844498,  0.10844498,  0.41828778,\n",
       "         0.62484964, -0.51124062, -0.30467875, -0.20139782,  0.72813058]])"
      ]
     },
     "execution_count": 49,
     "metadata": {},
     "output_type": "execute_result"
    }
   ],
   "source": [
    "# Messpunkte\n",
    "x = [-2, -4, -6, 6, -8, 6, 3, 6, 8, -9, -1, 1, 4, 2, 2, 2, -1, -1, 2, 2]\n",
    "y = [-3, -7, -13, 16, -14, 14, 6, 11, 18, -19, 5, 0, 3, 3, 6, 8, -3, -1, 0, 9]\n",
    "\n",
    "# Standardisierung \n",
    "x = (np.array(x) - np.mean(x)) / np.std(x)\n",
    "y = (np.array(y) - np.mean(y)) / np.std(y)\n",
    "\n",
    "# Matrix erstellen\n",
    "X = np.array([x,y])\n",
    "print(X.shape)\n",
    "X"
   ]
  },
  {
   "cell_type": "code",
   "execution_count": 50,
   "id": "e9dacca7",
   "metadata": {},
   "outputs": [
    {
     "data": {
      "image/png": "[encoded data removed]",
      "text/plain": [
       "<Figure size 432x288 with 1 Axes>"
      ]
     },
     "metadata": {
      "needs_background": "light"
     },
     "output_type": "display_data"
    }
   ],
   "source": [
    "# visuelle Darstellung der Messpunkte\n",
    "plt.scatter(X.T[ : , 0], X.T[ : , 1], color = \"b\")\n",
    "plt.show()"
   ]
  },
  {
   "cell_type": "code",
   "execution_count": 51,
   "id": "3ee3e682",
   "metadata": {},
   "outputs": [],
   "source": [
    "# Um eine Quadratische Matriz zu erhalten, rechnen wir folgendes\n",
    "XXT = X @ X.T "
   ]
  },
  {
   "cell_type": "code",
   "execution_count": 52,
   "id": "2a7be92e",
   "metadata": {},
   "outputs": [
    {
     "data": {
      "text/plain": [
       "array([ 0.89103208, 39.10896792])"
      ]
     },
     "metadata": {},
     "output_type": "display_data"
    },
    {
     "data": {
      "text/plain": [
       "array([[-0.70710678, -0.70710678],\n",
       "       [ 0.70710678, -0.70710678]])"
      ]
     },
     "metadata": {},
     "output_type": "display_data"
    }
   ],
   "source": [
    "# Eigenwerte und Eigenvektoren von XXT\n",
    "eigenwerte, eigenvektoren = np.linalg.eig(XXT)\n",
    "display(eigenwerte, eigenvektoren)"
   ]
  },
  {
   "cell_type": "code",
   "execution_count": 53,
   "id": "4955dab5",
   "metadata": {},
   "outputs": [
    {
     "data": {
      "text/plain": [
       "[39.10896791545882, 0.8910320845411768]"
      ]
     },
     "metadata": {},
     "output_type": "display_data"
    },
    {
     "data": {
      "text/plain": [
       "array([[-0.70710678, -0.70710678],\n",
       "       [-0.70710678,  0.70710678]])"
      ]
     },
     "metadata": {},
     "output_type": "display_data"
    }
   ],
   "source": [
    "# Absteigende Sortierung der Eigenwerte und Eigenvektoren\n",
    "eigenwerte = sorted(eigenwerte, reverse=True)\n",
    "display(eigenwerte)\n",
    "\n",
    "eigenvektoren = eigenvektoren[ : , [1,0]]\n",
    "display(eigenvektoren)\n",
    "\n",
    "v1 = eigenvektoren[ : , 0]\n",
    "v2 = eigenvektoren[ : , 1]"
   ]
  },
  {
   "cell_type": "code",
   "execution_count": 54,
   "id": "20fbf24a",
   "metadata": {},
   "outputs": [
    {
     "data": {
      "image/png": "[encoded data removed]",
      "text/plain": [
       "<Figure size 432x288 with 1 Axes>"
      ]
     },
     "metadata": {
      "needs_background": "light"
     },
     "output_type": "display_data"
    }
   ],
   "source": [
    "# Eigenvektoren visuell mit Messpunkte darstellen\n",
    "plt.scatter(X.T[ : , 0], X.T[ : , 1], color = \"blue\")\n",
    "plt.plot([0, v1[0] * 3], [0, v1[1] * 3], color = \"magenta\", label = \"v1\")\n",
    "plt.plot([0, v2[0] * 3], [0, v2[1] * 3], color = \"brown\", label = \"v2\")\n",
    "plt.grid()\n",
    "plt.legend()\n",
    "plt.show()"
   ]
  },
  {
   "cell_type": "code",
   "execution_count": 55,
   "id": "f3f2ecfd",
   "metadata": {},
   "outputs": [],
   "source": [
    "# Messwerte transformieren mit der eigenbasis von XXT\n",
    "eigenbasis = eigenvektoren\n",
    "eigenbasis_inv = np.linalg.inv(eigenbasis)\n",
    "\n",
    "Xb = eigenbasis_inv @ X\n",
    "\n",
    "x_b = Xb[ 0 , : ]\n",
    "y_b = Xb[ 1 , : ]"
   ]
  },
  {
   "cell_type": "code",
   "execution_count": 56,
   "id": "8003c15a",
   "metadata": {},
   "outputs": [
    {
     "data": {
      "image/png": "[encoded data removed]",
      "text/plain": [
       "<Figure size 432x288 with 1 Axes>"
      ]
     },
     "metadata": {
      "needs_background": "light"
     },
     "output_type": "display_data"
    }
   ],
   "source": [
    "# Visuelle Darstellung nach der Eigenbasis Transformation der Messwerte x und y\n",
    "plt.scatter(X[ 0 , : ], X[ 1 , :], color = \"blue\", label = \"vor transformation\")\n",
    "plt.scatter(x_b, y_b, color = \"red\", label = \"nach transformation\")\n",
    "plt.legend()\n",
    "plt.grid()\n",
    "plt.show()\n"
   ]
  },
  {
   "cell_type": "code",
   "execution_count": 57,
   "id": "93d5df53",
   "metadata": {},
   "outputs": [
    {
     "data": {
      "text/plain": [
       "array([-0.57091174, -1.01007461, -1.44923749,  1.18573976, -1.88840036,\n",
       "        1.18573976,  0.52699545,  1.18573976,  1.62490264, -2.1079818 ,\n",
       "       -0.3513303 ,  0.08783258,  0.74657689,  0.30741401,  0.30741401,\n",
       "        0.30741401, -0.3513303 , -0.3513303 ,  0.30741401,  0.30741401])"
      ]
     },
     "execution_count": 57,
     "metadata": {},
     "output_type": "execute_result"
    }
   ],
   "source": [
    "# Ruecktransformation der komprimierten Daten\n",
    "x = X[ 0 , : ]\n",
    "x"
   ]
  },
  {
   "cell_type": "code",
   "execution_count": 58,
   "id": "765ba572",
   "metadata": {},
   "outputs": [
    {
     "data": {
      "text/plain": [
       "array([[-0.57091174, -1.01007461, -1.44923749,  1.18573976, -1.88840036,\n",
       "         1.18573976,  0.52699545,  1.18573976,  1.62490264, -2.1079818 ,\n",
       "        -0.3513303 ,  0.08783258,  0.74657689,  0.30741401,  0.30741401,\n",
       "         0.30741401, -0.3513303 , -0.3513303 ,  0.30741401,  0.30741401],\n",
       "       [ 0.        ,  0.        ,  0.        ,  0.        ,  0.        ,\n",
       "         0.        ,  0.        ,  0.        ,  0.        ,  0.        ,\n",
       "         0.        ,  0.        ,  0.        ,  0.        ,  0.        ,\n",
       "         0.        ,  0.        ,  0.        ,  0.        ,  0.        ]])"
      ]
     },
     "execution_count": 58,
     "metadata": {},
     "output_type": "execute_result"
    }
   ],
   "source": [
    "# y eliminieren mit und mit 0 auffuellen\n",
    "Z_x = np.vstack( [x, np.zeros_like(x)] ) \n",
    "Z_x"
   ]
  },
  {
   "cell_type": "code",
   "execution_count": 59,
   "id": "bf463932",
   "metadata": {},
   "outputs": [
    {
     "data": {
      "text/plain": [
       "array([[ 0.40369556,  0.71423061,  1.02476566, -0.83844463,  1.3353007 ,\n",
       "        -0.83844463, -0.37264206, -0.83844463, -1.14897967,  1.49056823,\n",
       "         0.24842804, -0.06210701, -0.52790958, -0.21737453, -0.21737453,\n",
       "        -0.21737453,  0.24842804,  0.24842804, -0.21737453, -0.21737453],\n",
       "       [ 0.40369556,  0.71423061,  1.02476566, -0.83844463,  1.3353007 ,\n",
       "        -0.83844463, -0.37264206, -0.83844463, -1.14897967,  1.49056823,\n",
       "         0.24842804, -0.06210701, -0.52790958, -0.21737453, -0.21737453,\n",
       "        -0.21737453,  0.24842804,  0.24842804, -0.21737453, -0.21737453]])"
      ]
     },
     "metadata": {},
     "output_type": "display_data"
    },
    {
     "data": {
      "image/png": "[encoded data removed]",
      "text/plain": [
       "<Figure size 432x288 with 1 Axes>"
      ]
     },
     "metadata": {
      "needs_background": "light"
     },
     "output_type": "display_data"
    }
   ],
   "source": [
    "# Transofmration mit der eigenbasis von XXT \n",
    "Z = eigenbasis_inv @ Z_x\n",
    "display(Z)\n",
    "# Visuelle Darstellung\n",
    "plt.scatter(Z[0,:], Z[1,:])\n",
    "plt.show()"
   ]
  },
  {
   "cell_type": "markdown",
   "id": "1586b81a",
   "metadata": {},
   "source": [
    "## LE 4 Normen und Ähnlichkeitsmasse"
   ]
  },
  {
   "cell_type": "markdown",
   "id": "36d93e3b",
   "metadata": {},
   "source": [
    "### Vektornormen"
   ]
  },
  {
   "cell_type": "code",
   "execution_count": null,
   "id": "597b5e02",
   "metadata": {},
   "outputs": [],
   "source": []
  },
  {
   "cell_type": "code",
   "execution_count": null,
   "id": "c23609f8",
   "metadata": {},
   "outputs": [],
   "source": []
  },
  {
   "cell_type": "markdown",
   "id": "b8e97a6d",
   "metadata": {},
   "source": [
    "### Vektornormen definierte Matrizennormen"
   ]
  },
  {
   "cell_type": "markdown",
   "id": "b14eae33",
   "metadata": {},
   "source": [
    "#### Manhatten Norm p = 1"
   ]
  },
  {
   "cell_type": "code",
   "execution_count": null,
   "id": "605a9180",
   "metadata": {},
   "outputs": [],
   "source": []
  },
  {
   "cell_type": "markdown",
   "id": "e11f459f",
   "metadata": {},
   "source": [
    "#### Frobeniusnorm p = 2"
   ]
  },
  {
   "cell_type": "code",
   "execution_count": null,
   "id": "f7a7acd1",
   "metadata": {},
   "outputs": [],
   "source": []
  },
  {
   "cell_type": "markdown",
   "id": "109a3704",
   "metadata": {},
   "source": [
    "#### Norm p = 5"
   ]
  },
  {
   "cell_type": "code",
   "execution_count": null,
   "id": "f8c78b8e",
   "metadata": {},
   "outputs": [],
   "source": []
  },
  {
   "cell_type": "markdown",
   "id": "5f906c0c",
   "metadata": {},
   "source": [
    "#### Maximumsnorm p = ∞"
   ]
  },
  {
   "cell_type": "code",
   "execution_count": null,
   "id": "d181a17b",
   "metadata": {},
   "outputs": [],
   "source": []
  },
  {
   "cell_type": "code",
   "execution_count": null,
   "id": "01c63116",
   "metadata": {},
   "outputs": [],
   "source": []
  },
  {
   "cell_type": "markdown",
   "id": "60f465cb",
   "metadata": {},
   "source": [
    "### Operatornormen definierte Matrizennormen"
   ]
  },
  {
   "cell_type": "markdown",
   "id": "0c648d8b",
   "metadata": {},
   "source": [
    "#### Spaltennorm p = 1"
   ]
  },
  {
   "cell_type": "code",
   "execution_count": null,
   "id": "3a05ecc4",
   "metadata": {},
   "outputs": [],
   "source": []
  },
  {
   "cell_type": "markdown",
   "id": "0ab1a6ea",
   "metadata": {},
   "source": [
    "#### Spektralnorm p = 2"
   ]
  },
  {
   "cell_type": "code",
   "execution_count": null,
   "id": "aa85434a",
   "metadata": {},
   "outputs": [],
   "source": []
  },
  {
   "cell_type": "markdown",
   "id": "c6629f42",
   "metadata": {},
   "source": [
    "#### Zeilennorm p = ∞"
   ]
  },
  {
   "cell_type": "code",
   "execution_count": null,
   "id": "3f6b6c6b",
   "metadata": {},
   "outputs": [],
   "source": []
  },
  {
   "cell_type": "code",
   "execution_count": null,
   "id": "07ebc52b",
   "metadata": {},
   "outputs": [],
   "source": []
  },
  {
   "cell_type": "markdown",
   "id": "74616c8c",
   "metadata": {},
   "source": [
    "## LE 5 Transfer auf Machine Learning – Algorithmen"
   ]
  },
  {
   "cell_type": "code",
   "execution_count": null,
   "id": "9de12dbf",
   "metadata": {},
   "outputs": [],
   "source": []
  },
  {
   "cell_type": "markdown",
   "id": "376a87c1",
   "metadata": {},
   "source": [
    "### Lineare Regression"
   ]
  },
  {
   "cell_type": "code",
   "execution_count": null,
   "id": "62efebf6",
   "metadata": {},
   "outputs": [],
   "source": []
  },
  {
   "cell_type": "markdown",
   "id": "79441b94",
   "metadata": {},
   "source": [
    "### Page Rank"
   ]
  },
  {
   "cell_type": "code",
   "execution_count": null,
   "id": "b34f4422",
   "metadata": {},
   "outputs": [],
   "source": []
  },
  {
   "cell_type": "code",
   "execution_count": null,
   "id": "9721dbdc",
   "metadata": {},
   "outputs": [],
   "source": []
  },
  {
   "cell_type": "markdown",
   "id": "378cff64",
   "metadata": {},
   "source": [
    "### Recommander System (Wahrscheinlich nicht Pruefungsrelevant)"
   ]
  },
  {
   "cell_type": "code",
   "execution_count": null,
   "id": "a4cff20b",
   "metadata": {},
   "outputs": [],
   "source": []
  },
  {
   "cell_type": "code",
   "execution_count": null,
   "id": "3255ab25",
   "metadata": {},
   "outputs": [],
   "source": []
  },
  {
   "cell_type": "markdown",
   "id": "5574233e",
   "metadata": {},
   "source": [
    "### Singulaerwertzerlegung"
   ]
  },
  {
   "cell_type": "code",
   "execution_count": null,
   "id": "f49d00c6",
   "metadata": {},
   "outputs": [],
   "source": []
  },
  {
   "cell_type": "code",
   "execution_count": null,
   "id": "4999ff0a",
   "metadata": {},
   "outputs": [],
   "source": []
  },
  {
   "cell_type": "code",
   "execution_count": null,
   "id": "04dd56d7",
   "metadata": {},
   "outputs": [],
   "source": []
  }
 ],
 "metadata": {
  "kernelspec": {
   "display_name": "Python 3 (ipykernel)",
   "language": "python",
   "name": "python3"
  },
  "language_info": {
   "codemirror_mode": {
    "name": "ipython",
    "version": 3
   },
   "file_extension": ".py",
   "mimetype": "text/x-python",
   "name": "python",
   "nbconvert_exporter": "python",
   "pygments_lexer": "ipython3",
   "version": "3.9.7"
  }
 },
 "nbformat": 4,
 "nbformat_minor": 5
}
