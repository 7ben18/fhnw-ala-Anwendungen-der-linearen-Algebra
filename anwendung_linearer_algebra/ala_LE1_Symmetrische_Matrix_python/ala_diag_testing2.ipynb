{
 "cells": [
  {
   "cell_type": "code",
   "execution_count": 1,
   "id": "e787d200",
   "metadata": {},
   "outputs": [
    {
     "data": {
      "text/plain": [
       "array([[4, 1],\n",
       "       [3, 0]])"
      ]
     },
     "execution_count": 1,
     "metadata": {},
     "output_type": "execute_result"
    }
   ],
   "source": [
    "import numpy as np\n",
    "A = np.array([[4,1],[3,0]])\n",
    "A"
   ]
  },
  {
   "cell_type": "code",
   "execution_count": 6,
   "id": "f0dd482a",
   "metadata": {},
   "outputs": [
    {
     "name": "stdout",
     "output_type": "stream",
     "text": [
      "[ 4.64575131 -0.64575131]\n",
      "[[ 0.84007078 -0.21043072]\n",
      " [ 0.54247681  0.97760877]]\n"
     ]
    }
   ],
   "source": [
    "eigw, eigv = np.linalg.eig(A)\n",
    "\n",
    "\n",
    "print(eigw)\n",
    "\n",
    "print(eigv)\n",
    "\n",
    "D = np.diag(eigw)"
   ]
  },
  {
   "cell_type": "code",
   "execution_count": 5,
   "id": "69c31307",
   "metadata": {},
   "outputs": [
    {
     "name": "stdout",
     "output_type": "stream",
     "text": [
      "[[ 1.04510774  0.2249599 ]\n",
      " [-0.5799321   0.89807344]]\n"
     ]
    }
   ],
   "source": [
    "eigv_inv = np.linalg.inv(eigv)\n",
    "print(eigv_inv)"
   ]
  },
  {
   "cell_type": "code",
   "execution_count": 9,
   "id": "83b37db6",
   "metadata": {},
   "outputs": [
    {
     "data": {
      "text/plain": [
       "array([[ 4., -1.],\n",
       "       [-3.,  0.]])"
      ]
     },
     "execution_count": 9,
     "metadata": {},
     "output_type": "execute_result"
    }
   ],
   "source": [
    "A_diag = np.round(eigv_inv @ D @ eigv)\n",
    "A_diag"
   ]
  },
  {
   "cell_type": "code",
   "execution_count": null,
   "id": "45298699",
   "metadata": {},
   "outputs": [],
   "source": []
  },
  {
   "cell_type": "code",
   "execution_count": null,
   "id": "42059cc8",
   "metadata": {},
   "outputs": [],
   "source": []
  },
  {
   "cell_type": "code",
   "execution_count": null,
   "id": "324f4b04",
   "metadata": {},
   "outputs": [],
   "source": []
  }
 ],
 "metadata": {
  "kernelspec": {
   "display_name": "Python 3 (ipykernel)",
   "language": "python",
   "name": "python3"
  },
  "language_info": {
   "codemirror_mode": {
    "name": "ipython",
    "version": 3
   },
   "file_extension": ".py",
   "mimetype": "text/x-python",
   "name": "python",
   "nbconvert_exporter": "python",
   "pygments_lexer": "ipython3",
   "version": "3.9.7"
  }
 },
 "nbformat": 4,
 "nbformat_minor": 5
}
