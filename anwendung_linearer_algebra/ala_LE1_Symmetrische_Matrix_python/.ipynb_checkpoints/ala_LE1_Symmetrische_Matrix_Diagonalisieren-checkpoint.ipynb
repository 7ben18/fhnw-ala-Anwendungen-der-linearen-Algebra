{
 "cells": [
  {
   "cell_type": "code",
   "execution_count": 1,
   "id": "70aab7d8",
   "metadata": {},
   "outputs": [],
   "source": [
    "# Ziel: Beliebige Symmetrische Matrix diagonalisere."
   ]
  },
  {
   "cell_type": "code",
   "execution_count": 2,
   "id": "a1decc55",
   "metadata": {},
   "outputs": [],
   "source": [
    "# Mathe Module importieren\n",
    "import numpy as np"
   ]
  },
  {
   "cell_type": "code",
   "execution_count": 3,
   "id": "24a4bda8",
   "metadata": {},
   "outputs": [
    {
     "name": "stdout",
     "output_type": "stream",
     "text": [
      "[[10. 15. 20.]\n",
      " [15. 30. 25.]\n",
      " [20. 25. 50.]]\n"
     ]
    }
   ],
   "source": [
    "# Symetrische Matrix definieren\n",
    "\n",
    "# 10 15 20\n",
    "# 15 30 25\n",
    "# 20 25 50\n",
    "\n",
    "M = np.array([[10., 15., 20.], [15., 30., 25.], [20., 25., 50.]])\n",
    "print(M)"
   ]
  },
  {
   "cell_type": "code",
   "execution_count": 4,
   "id": "85f6876c",
   "metadata": {},
   "outputs": [
    {
     "name": "stdout",
     "output_type": "stream",
     "text": [
      "[76.32970682  0.49726845 13.17302473]\n",
      "[[ 0.35242418  0.93228756 -0.08146847]\n",
      " [ 0.53022063 -0.27064894 -0.80350186]\n",
      " [ 0.77114414 -0.23997722  0.58970132]]\n"
     ]
    }
   ],
   "source": [
    "# Eigenwerte / Eigenvektoren bestimmen\n",
    "Eigenwerte, Eigenvektoren = np.linalg.eig(M)\n",
    "print(Eigenwerte)\n",
    "print(Eigenvektoren)"
   ]
  },
  {
   "cell_type": "code",
   "execution_count": 5,
   "id": "8af1880a",
   "metadata": {},
   "outputs": [
    {
     "name": "stdout",
     "output_type": "stream",
     "text": [
      "[[ 0.35242418  0.53022063  0.77114414]\n",
      " [ 0.93228756 -0.27064894 -0.23997722]\n",
      " [-0.08146847 -0.80350186  0.58970132]]\n"
     ]
    }
   ],
   "source": [
    "# Inverse von Eigenvektor Matrix\n",
    "Eigenvektoren_Inverse = np.linalg.inv(Eigenvektoren)\n",
    "print(Eigenvektoren_Inverse)"
   ]
  },
  {
   "cell_type": "code",
   "execution_count": 6,
   "id": "775d6d1a",
   "metadata": {},
   "outputs": [
    {
     "name": "stdout",
     "output_type": "stream",
     "text": [
      "[[ 0.35242418  0.53022063  0.77114414]\n",
      " [ 0.93228756 -0.27064894 -0.23997722]\n",
      " [-0.08146847 -0.80350186  0.58970132]]\n"
     ]
    }
   ],
   "source": [
    "# Transponiere von Eigenvektor Matrix\n",
    "Eigenvektoren_transponiert = np.transpose(Eigenvektoren)\n",
    "print(Eigenvektoren_transponiert)"
   ]
  },
  {
   "cell_type": "code",
   "execution_count": 7,
   "id": "55355fba",
   "metadata": {},
   "outputs": [
    {
     "name": "stdout",
     "output_type": "stream",
     "text": [
      "[[ 1.  0. -0.]\n",
      " [ 0.  1.  0.]\n",
      " [-0.  0.  1.]]\n"
     ]
    }
   ],
   "source": [
    "# Multiplikation Eigenvektoren Matrix und transponierte Eigenvektor Matrix\n",
    "M_tM = np.dot(Eigenvektoren, Eigenvektoren_transponiert)\n",
    "print(np.round(M_tM))"
   ]
  },
  {
   "cell_type": "code",
   "execution_count": 8,
   "id": "63183cf5",
   "metadata": {},
   "outputs": [
    {
     "name": "stdout",
     "output_type": "stream",
     "text": [
      "[[76.32970682  0.          0.        ]\n",
      " [ 0.          0.49726845  0.        ]\n",
      " [ 0.          0.         13.17302473]]\n",
      "[[ 0.35242418  0.93228756 -0.08146847]\n",
      " [ 0.53022063 -0.27064894 -0.80350186]\n",
      " [ 0.77114414 -0.23997722  0.58970132]]\n",
      "[[ 0.35242418  0.53022063  0.77114414]\n",
      " [ 0.93228756 -0.27064894 -0.23997722]\n",
      " [-0.08146847 -0.80350186  0.58970132]]\n"
     ]
    }
   ],
   "source": [
    "D = np.diag(Eigenwerte)\n",
    "print(D)\n",
    "S = Eigenvektoren\n",
    "print(S)\n",
    "S_1 = np.linalg.inv(Eigenvektoren)\n",
    "print(S_1)"
   ]
  },
  {
   "cell_type": "code",
   "execution_count": 9,
   "id": "f2a04ea4",
   "metadata": {},
   "outputs": [
    {
     "name": "stdout",
     "output_type": "stream",
     "text": [
      "[[10. 15. 20.]\n",
      " [15. 30. 25.]\n",
      " [20. 25. 50.]]\n",
      "[[10. 15. 20.]\n",
      " [15. 30. 25.]\n",
      " [20. 25. 50.]]\n"
     ]
    }
   ],
   "source": [
    "Result = np.dot(np.dot(S, D),S_1)\n",
    "print(Result)\n",
    "print(M)"
   ]
  },
  {
   "cell_type": "code",
   "execution_count": 10,
   "id": "95597e8d",
   "metadata": {},
   "outputs": [],
   "source": [
    "from timeit import timeit"
   ]
  },
  {
   "cell_type": "code",
   "execution_count": 11,
   "id": "a6fbb9cb",
   "metadata": {},
   "outputs": [
    {
     "name": "stdout",
     "output_type": "stream",
     "text": [
      "18 µs ± 1.46 µs per loop (mean ± std. dev. of 7 runs, 10,000 loops each)\n"
     ]
    }
   ],
   "source": [
    "%%timeit\n",
    "# Potenzieren der Matrix Variante 1\n",
    "M_20_1 = np.linalg.matrix_power(M, 150)\n",
    "#print(M_20_1)"
   ]
  },
  {
   "cell_type": "code",
   "execution_count": 12,
   "id": "260c35b2",
   "metadata": {},
   "outputs": [
    {
     "name": "stdout",
     "output_type": "stream",
     "text": [
      "5.72 µs ± 76.7 ns per loop (mean ± std. dev. of 7 runs, 100,000 loops each)\n"
     ]
    }
   ],
   "source": [
    "%%timeit\n",
    "# Potenzieren der Matrix Variante 2\n",
    "M_20_2 = np.dot(np.dot(S, D**150),S_1)\n",
    "#print(M_20_2)"
   ]
  }
 ],
 "metadata": {
  "kernelspec": {
   "display_name": "Python 3 (ipykernel)",
   "language": "python",
   "name": "python3"
  },
  "language_info": {
   "codemirror_mode": {
    "name": "ipython",
    "version": 3
   },
   "file_extension": ".py",
   "mimetype": "text/x-python",
   "name": "python",
   "nbconvert_exporter": "python",
   "pygments_lexer": "ipython3",
   "version": "3.9.7"
  }
 },
 "nbformat": 4,
 "nbformat_minor": 5
}
