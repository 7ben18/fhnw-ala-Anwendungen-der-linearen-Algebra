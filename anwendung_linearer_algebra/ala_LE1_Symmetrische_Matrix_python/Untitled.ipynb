{
 "cells": [
  {
   "cell_type": "code",
   "execution_count": 1,
   "id": "224f4cb1",
   "metadata": {},
   "outputs": [],
   "source": [
    "import numpy as np"
   ]
  },
  {
   "attachments": {
    "image.png": {
     "image/png": "[encoded data removed]"
    }
   },
   "cell_type": "markdown",
   "id": "1e6d7385",
   "metadata": {},
   "source": [
    "![image.png](attachment:image.png)"
   ]
  },
  {
   "cell_type": "code",
   "execution_count": 38,
   "id": "6a0cfe38",
   "metadata": {},
   "outputs": [
    {
     "data": {
      "text/plain": [
       "array([[ 0.,  0., -2.],\n",
       "       [ 1.,  2.,  1.],\n",
       "       [ 1.,  0.,  3.]])"
      ]
     },
     "execution_count": 38,
     "metadata": {},
     "output_type": "execute_result"
    }
   ],
   "source": [
    "B = np.array([[0.,0.,-2.],[1.,2.,1.],[1.,0.,3.]])\n",
    "B"
   ]
  },
  {
   "cell_type": "code",
   "execution_count": 39,
   "id": "2ff12c51",
   "metadata": {},
   "outputs": [
    {
     "data": {
      "text/plain": [
       "array([2., 1., 2.])"
      ]
     },
     "metadata": {},
     "output_type": "display_data"
    },
    {
     "data": {
      "text/plain": [
       "array([[ 0.        , -0.81649658,  0.70710678],\n",
       "       [ 1.        ,  0.40824829,  0.        ],\n",
       "       [ 0.        ,  0.40824829, -0.70710678]])"
      ]
     },
     "metadata": {},
     "output_type": "display_data"
    }
   ],
   "source": [
    "eigenwerteB, eigevektoreB = np.linalg.eig(B)\n",
    "display(eigenwerteB)\n",
    "display(eigevektoreB)"
   ]
  },
  {
   "cell_type": "code",
   "execution_count": 41,
   "id": "a60c7813",
   "metadata": {},
   "outputs": [
    {
     "data": {
      "text/plain": [
       "array([[2., 0., 0.],\n",
       "       [0., 1., 0.],\n",
       "       [0., 0., 2.]])"
      ]
     },
     "execution_count": 41,
     "metadata": {},
     "output_type": "execute_result"
    }
   ],
   "source": [
    "D = np.diag(eigenwerteB)\n",
    "D"
   ]
  },
  {
   "cell_type": "code",
   "execution_count": 42,
   "id": "13cd5791",
   "metadata": {},
   "outputs": [
    {
     "data": {
      "text/plain": [
       "array([[ 0.        , -0.81649658,  0.70710678],\n",
       "       [ 1.        ,  0.40824829,  0.        ],\n",
       "       [ 0.        ,  0.40824829, -0.70710678]])"
      ]
     },
     "execution_count": 42,
     "metadata": {},
     "output_type": "execute_result"
    }
   ],
   "source": [
    "S = eigevektoreB\n",
    "S"
   ]
  },
  {
   "cell_type": "code",
   "execution_count": 43,
   "id": "d5ff8e96",
   "metadata": {},
   "outputs": [
    {
     "data": {
      "text/plain": [
       "array([[ 1.        ,  1.        ,  1.        ],\n",
       "       [-2.44948974, -0.        , -2.44948974],\n",
       "       [-1.41421356, -0.        , -2.82842712]])"
      ]
     },
     "execution_count": 43,
     "metadata": {},
     "output_type": "execute_result"
    }
   ],
   "source": [
    "S_inv = np.linalg.inv(S)\n",
    "S_inv"
   ]
  },
  {
   "cell_type": "code",
   "execution_count": 44,
   "id": "81ed86d4",
   "metadata": {},
   "outputs": [
    {
     "data": {
      "text/plain": [
       "array([[ 0.        ,  1.        ,  0.        ],\n",
       "       [-0.81649658,  0.40824829,  0.40824829],\n",
       "       [ 0.70710678,  0.        , -0.70710678]])"
      ]
     },
     "execution_count": 44,
     "metadata": {},
     "output_type": "execute_result"
    }
   ],
   "source": [
    "S_Transponieren = S.T\n",
    "S_Transponieren"
   ]
  },
  {
   "cell_type": "code",
   "execution_count": 56,
   "id": "76adcf65",
   "metadata": {},
   "outputs": [
    {
     "data": {
      "text/plain": [
       "array([[ 0.,  0., -2.],\n",
       "       [ 1.,  2.,  1.],\n",
       "       [ 1.,  0.,  3.]])"
      ]
     },
     "metadata": {},
     "output_type": "display_data"
    },
    {
     "data": {
      "text/plain": [
       "array([[ 0.,  0., -2.],\n",
       "       [ 1.,  2.,  1.],\n",
       "       [ 1.,  0.,  3.]])"
      ]
     },
     "metadata": {},
     "output_type": "display_data"
    },
    {
     "data": {
      "text/plain": [
       "True"
      ]
     },
     "execution_count": 56,
     "metadata": {},
     "output_type": "execute_result"
    }
   ],
   "source": [
    "B_Recon_with_Inv = S @ D @ S_inv\n",
    "display(np.round(B))\n",
    "display(np.round(B_Recon_with_Inv))\n",
    "B == B_Recon_with_Inv\n",
    "np.isclose(B, B_Recon_with_Inv).all()"
   ]
  },
  {
   "cell_type": "code",
   "execution_count": 52,
   "id": "88cad716",
   "metadata": {},
   "outputs": [
    {
     "data": {
      "text/plain": [
       "array([[ 0.,  0., -2.],\n",
       "       [ 1.,  2.,  1.],\n",
       "       [ 1.,  0.,  3.]])"
      ]
     },
     "metadata": {},
     "output_type": "display_data"
    },
    {
     "data": {
      "text/plain": [
       "array([[ 2., -0., -1.],\n",
       "       [-0.,  2.,  0.],\n",
       "       [-1.,  0.,  1.]])"
      ]
     },
     "metadata": {},
     "output_type": "display_data"
    },
    {
     "data": {
      "text/plain": [
       "array([[False, False, False],\n",
       "       [False, False, False],\n",
       "       [False, False, False]])"
      ]
     },
     "execution_count": 52,
     "metadata": {},
     "output_type": "execute_result"
    }
   ],
   "source": [
    "B_Reconstruct_with_trans = S @ D @ S_Transponieren\n",
    "display(np.round(B))\n",
    "display(np.round(B_Reconstruct_with_trans))\n",
    "B == B_Reconstruct_with_trans\n"
   ]
  },
  {
   "cell_type": "code",
   "execution_count": null,
   "id": "00a13acf",
   "metadata": {},
   "outputs": [],
   "source": []
  },
  {
   "attachments": {},
   "cell_type": "markdown",
   "id": "a1d3aaa1",
   "metadata": {},
   "source": [
    "3x3 selber definieren symetrich"
   ]
  },
  {
   "cell_type": "code",
   "execution_count": 26,
   "id": "ec5a228d",
   "metadata": {},
   "outputs": [
    {
     "data": {
      "text/plain": [
       "array([[ 1.,  2.,  3.],\n",
       "       [ 2., 19.,  4.],\n",
       "       [ 3.,  4., 40.]])"
      ]
     },
     "execution_count": 26,
     "metadata": {},
     "output_type": "execute_result"
    }
   ],
   "source": [
    "A = np.array([[1.,2.,3.],[2.,19.,4.],[3.,4.,40.]])\n",
    "A"
   ]
  },
  {
   "cell_type": "code",
   "execution_count": 27,
   "id": "6f3515ac",
   "metadata": {},
   "outputs": [
    {
     "name": "stdout",
     "output_type": "stream",
     "text": [
      "[ 0.61167036 41.01094464 18.377385  ]\n",
      "[[-0.9934044   0.0826877  -0.07943826]\n",
      " [ 0.09365746  0.18545527 -0.97817924]\n",
      " [ 0.06615115  0.97916755  0.1919764 ]]\n"
     ]
    }
   ],
   "source": [
    "eigw, eigev = np.linalg.eig(A)\n",
    "print(eigw)\n",
    "print(eigev)"
   ]
  },
  {
   "cell_type": "code",
   "execution_count": 28,
   "id": "68a75892",
   "metadata": {},
   "outputs": [
    {
     "data": {
      "text/plain": [
       "array([[ 0.61167036,  0.        ,  0.        ],\n",
       "       [ 0.        , 41.01094464,  0.        ],\n",
       "       [ 0.        ,  0.        , 18.377385  ]])"
      ]
     },
     "execution_count": 28,
     "metadata": {},
     "output_type": "execute_result"
    }
   ],
   "source": [
    "D = np.diag(eigw)\n",
    "D"
   ]
  },
  {
   "cell_type": "code",
   "execution_count": 30,
   "id": "f4652d2f",
   "metadata": {},
   "outputs": [
    {
     "data": {
      "text/plain": [
       "array([[-0.9934044 ,  0.0826877 , -0.07943826],\n",
       "       [ 0.09365746,  0.18545527, -0.97817924],\n",
       "       [ 0.06615115,  0.97916755,  0.1919764 ]])"
      ]
     },
     "execution_count": 30,
     "metadata": {},
     "output_type": "execute_result"
    }
   ],
   "source": [
    "S = eigev\n",
    "S"
   ]
  },
  {
   "cell_type": "code",
   "execution_count": 31,
   "id": "748e8839",
   "metadata": {},
   "outputs": [
    {
     "data": {
      "text/plain": [
       "array([[-0.9934044 ,  0.09365746,  0.06615115],\n",
       "       [ 0.0826877 ,  0.18545527,  0.97916755],\n",
       "       [-0.07943826, -0.97817924,  0.1919764 ]])"
      ]
     },
     "execution_count": 31,
     "metadata": {},
     "output_type": "execute_result"
    }
   ],
   "source": [
    "S_transp = S.T\n",
    "S_transp"
   ]
  },
  {
   "cell_type": "code",
   "execution_count": 33,
   "id": "fe86d660",
   "metadata": {},
   "outputs": [
    {
     "data": {
      "text/plain": [
       "array([[ 1.00000000e+00,  8.32667268e-17,  8.32667268e-17],\n",
       "       [ 8.32667268e-17,  1.00000000e+00, -2.77555756e-17],\n",
       "       [ 8.32667268e-17, -2.77555756e-17,  1.00000000e+00]])"
      ]
     },
     "execution_count": 33,
     "metadata": {},
     "output_type": "execute_result"
    }
   ],
   "source": [
    "S @ S_transp"
   ]
  },
  {
   "cell_type": "code",
   "execution_count": 32,
   "id": "848fe65c",
   "metadata": {},
   "outputs": [
    {
     "data": {
      "text/plain": [
       "array([[ 1.,  0.,  0.],\n",
       "       [ 0.,  1., -0.],\n",
       "       [ 0., -0.,  1.]])"
      ]
     },
     "execution_count": 32,
     "metadata": {},
     "output_type": "execute_result"
    }
   ],
   "source": [
    "np.round(S @ S_transp)"
   ]
  },
  {
   "cell_type": "code",
   "execution_count": 37,
   "id": "ecdc7c01",
   "metadata": {},
   "outputs": [
    {
     "data": {
      "text/plain": [
       "array([[ 1.,  2.,  3.],\n",
       "       [ 2., 19.,  4.],\n",
       "       [ 3.,  4., 40.]])"
      ]
     },
     "metadata": {},
     "output_type": "display_data"
    },
    {
     "data": {
      "text/plain": [
       "array([[ 1.,  2.,  3.],\n",
       "       [ 2., 19.,  4.],\n",
       "       [ 3.,  4., 40.]])"
      ]
     },
     "metadata": {},
     "output_type": "display_data"
    },
    {
     "data": {
      "text/plain": [
       "array([[ 1.04378378,  1.85244557, -3.47551526],\n",
       "       [ 1.85244557, 19.03436711, -3.98922461],\n",
       "       [-3.47551526, -3.98922461, 39.92184911]])"
      ]
     },
     "metadata": {},
     "output_type": "display_data"
    }
   ],
   "source": [
    "A_recon = S @ D @ S_transp\n",
    "A_recon2 = S_transp @ D @ S\n",
    "display(A)\n",
    "display(A_recon)\n",
    "display(A_recon2)\n"
   ]
  },
  {
   "cell_type": "code",
   "execution_count": null,
   "id": "79caeb2a",
   "metadata": {},
   "outputs": [],
   "source": []
  },
  {
   "cell_type": "code",
   "execution_count": null,
   "id": "a88cdd13",
   "metadata": {},
   "outputs": [],
   "source": []
  }
 ],
 "metadata": {
  "kernelspec": {
   "display_name": "Python 3 (ipykernel)",
   "language": "python",
   "name": "python3"
  },
  "language_info": {
   "codemirror_mode": {
    "name": "ipython",
    "version": 3
   },
   "file_extension": ".py",
   "mimetype": "text/x-python",
   "name": "python",
   "nbconvert_exporter": "python",
   "pygments_lexer": "ipython3",
   "version": "3.9.7"
  }
 },
 "nbformat": 4,
 "nbformat_minor": 5
}
