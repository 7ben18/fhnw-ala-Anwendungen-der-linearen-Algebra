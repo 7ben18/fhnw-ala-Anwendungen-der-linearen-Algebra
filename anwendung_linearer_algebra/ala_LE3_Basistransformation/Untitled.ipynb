{
 "cells": [
  {
   "cell_type": "code",
   "execution_count": 12,
   "id": "48ecb528",
   "metadata": {},
   "outputs": [],
   "source": [
    "import numpy as np"
   ]
  },
  {
   "cell_type": "code",
   "execution_count": 2,
   "id": "87e1124a",
   "metadata": {},
   "outputs": [
    {
     "name": "stdout",
     "output_type": "stream",
     "text": [
      "[[2 0 0]\n",
      " [0 4 2]\n",
      " [0 2 1]]\n"
     ]
    }
   ],
   "source": [
    "# Matrix definieren\n",
    "A = np.array([[2,0,0],[0,4,2],[0,2,1]])\n",
    "print(A)"
   ]
  },
  {
   "cell_type": "code",
   "execution_count": 3,
   "id": "d61d4fc7",
   "metadata": {},
   "outputs": [
    {
     "name": "stdout",
     "output_type": "stream",
     "text": [
      "[0. 5. 2.]\n",
      "\n",
      "[[ 0.          0.          1.        ]\n",
      " [ 0.4472136  -0.89442719  0.        ]\n",
      " [-0.89442719 -0.4472136   0.        ]]\n"
     ]
    }
   ],
   "source": [
    "# Eigenwerte und Eigenvektoren\n",
    "eigenwerte, eigenvektoren = np.linalg.eig(A)\n",
    "print(eigenwerte)\n",
    "print()\n",
    "print(eigenvektoren)"
   ]
  },
  {
   "cell_type": "code",
   "execution_count": 4,
   "id": "551291a4",
   "metadata": {},
   "outputs": [
    {
     "name": "stdout",
     "output_type": "stream",
     "text": [
      "[[ 0.          0.          1.        ]\n",
      " [ 0.4472136  -0.89442719  0.        ]\n",
      " [-0.89442719 -0.4472136   0.        ]]\n"
     ]
    }
   ],
   "source": [
    "# Basis (Transformationsmatrix)\n",
    "T = eigenvektoren\n",
    "print(T)"
   ]
  },
  {
   "cell_type": "code",
   "execution_count": 5,
   "id": "54aed0d7",
   "metadata": {},
   "outputs": [
    {
     "name": "stdout",
     "output_type": "stream",
     "text": [
      "[[-0.          0.4472136  -0.89442719]\n",
      " [-0.         -0.89442719 -0.4472136 ]\n",
      " [ 1.          0.          0.        ]]\n"
     ]
    }
   ],
   "source": [
    "# Inverse der Transformationsmatrix\n",
    "T_inv = np.linalg.inv(T)\n",
    "print(T_inv)"
   ]
  },
  {
   "cell_type": "code",
   "execution_count": 8,
   "id": "e67024c7",
   "metadata": {},
   "outputs": [
    {
     "name": "stdout",
     "output_type": "stream",
     "text": [
      "[[0. 0. 0.]\n",
      " [0. 5. 0.]\n",
      " [0. 0. 2.]]\n"
     ]
    }
   ],
   "source": [
    "# Basistransformation der Matrix A\n",
    "Ab = np.round(T_inv @ A @ T, 2)\n",
    "print(Ab)"
   ]
  },
  {
   "cell_type": "markdown",
   "id": "8fee0c2f",
   "metadata": {},
   "source": [
    "Invarianz der Determinante und Spur unter Basistransformation"
   ]
  },
  {
   "cell_type": "code",
   "execution_count": 10,
   "id": "aa1a0696",
   "metadata": {},
   "outputs": [
    {
     "name": "stdout",
     "output_type": "stream",
     "text": [
      "0.0\n",
      "0.0\n",
      "True\n"
     ]
    }
   ],
   "source": [
    "# Determinante von A und Ab (Ab = Nach Basistransofmration)\n",
    "A_det = np.linalg.det(A)\n",
    "print(A_det)\n",
    "Ab_det = np.linalg.det(Ab)\n",
    "print(Ab_det)\n",
    "print(A_det == Ab_det)"
   ]
  },
  {
   "cell_type": "code",
   "execution_count": 11,
   "id": "e9374c87",
   "metadata": {},
   "outputs": [
    {
     "name": "stdout",
     "output_type": "stream",
     "text": [
      "7\n",
      "7.0\n",
      "True\n"
     ]
    }
   ],
   "source": [
    "# Spur von A und Ab (Ab = nach Basistransformation)\n",
    "A_spur = np.trace(A)\n",
    "print(A_spur)\n",
    "Ab_spur = np.trace(Ab)\n",
    "print(Ab_spur)\n",
    "print(A_spur == Ab_spur)"
   ]
  },
  {
   "cell_type": "code",
   "execution_count": 18,
   "id": "23c7d3c1",
   "metadata": {},
   "outputs": [
    {
     "name": "stdout",
     "output_type": "stream",
     "text": [
      "[[0.875]\n",
      " [0.375]]\n"
     ]
    }
   ],
   "source": [
    "Basis_A = np.array([[2,3],[4,1]])\n",
    "Basis_B = np.array([[1,3],[3,1]])\n",
    "Basis_A_inv = np.linalg.inv(Basis_A)\n",
    "Basis_B_inv = np.linalg.inv(Basis_B)\n",
    "vector_A = np.array([[13],[11]])\n",
    "vector_B = np.array([[11],[9]])\n",
    "\n",
    "# Gabu will Vektor ([2],[3]) in die Basis B transformieren\n",
    "vector_a = np.array([[2],[3]])\n",
    "basis_b = Basis_B\n",
    "\n",
    "\n",
    "\n",
    "print(np.linalg.inv(basis_b) @ vector_a)"
   ]
  },
  {
   "attachments": {
    "image.png": {
     "image/png": "[encoded data removed]"
    }
   },
   "cell_type": "markdown",
   "id": "226f2846",
   "metadata": {},
   "source": [
    "![image.png](attachment:image.png)"
   ]
  },
  {
   "cell_type": "code",
   "execution_count": 41,
   "id": "988cd53c",
   "metadata": {},
   "outputs": [
    {
     "data": {
      "text/plain": [
       "array([[ 1,  1,  0],\n",
       "       [ 1, -1,  0]])"
      ]
     },
     "execution_count": 41,
     "metadata": {},
     "output_type": "execute_result"
    }
   ],
   "source": [
    "# Abbildungsmatrix herauslesen, definieren\n",
    "A = np.array([[1,1,0],[1,-1,0]])\n",
    "A"
   ]
  },
  {
   "cell_type": "code",
   "execution_count": 37,
   "id": "95486cd2",
   "metadata": {},
   "outputs": [],
   "source": [
    "import sympy as sp"
   ]
  },
  {
   "cell_type": "code",
   "execution_count": 39,
   "id": "55fb129b",
   "metadata": {},
   "outputs": [
    {
     "data": {
      "text/latex": [
       "$\\displaystyle \\left[\\begin{matrix}1 & 1\\\\1 & -1\\end{matrix}\\right]$"
      ],
      "text/plain": [
       "Matrix([\n",
       "[1,  1],\n",
       "[1, -1]])"
      ]
     },
     "execution_count": 39,
     "metadata": {},
     "output_type": "execute_result"
    }
   ],
   "source": [
    "A = sp.Matrix(A)\n",
    "A"
   ]
  },
  {
   "cell_type": "code",
   "execution_count": 40,
   "id": "17b98199",
   "metadata": {},
   "outputs": [
    {
     "data": {
      "text/plain": [
       "[]"
      ]
     },
     "execution_count": 40,
     "metadata": {},
     "output_type": "execute_result"
    }
   ],
   "source": [
    "# Kern\n",
    "A.nullspace() \n",
    "# Dimensioon 1\n",
    "\n",
    "# nicht injektiv, weil dim(ker(f)) != 0"
   ]
  },
  {
   "cell_type": "code",
   "execution_count": 35,
   "id": "f6f1eddf",
   "metadata": {},
   "outputs": [
    {
     "data": {
      "text/plain": [
       "[Matrix([\n",
       " [1],\n",
       " [1]]),\n",
       " Matrix([\n",
       " [ 1],\n",
       " [-1]])]"
      ]
     },
     "execution_count": 35,
     "metadata": {},
     "output_type": "execute_result"
    }
   ],
   "source": [
    "# Bild\n",
    "A.columnspace()\n",
    "# Dimension 2"
   ]
  },
  {
   "cell_type": "code",
   "execution_count": null,
   "id": "9ffd3975",
   "metadata": {},
   "outputs": [],
   "source": []
  },
  {
   "cell_type": "code",
   "execution_count": null,
   "id": "4ede9efd",
   "metadata": {},
   "outputs": [],
   "source": []
  },
  {
   "cell_type": "code",
   "execution_count": null,
   "id": "524b27d2",
   "metadata": {},
   "outputs": [],
   "source": []
  },
  {
   "cell_type": "code",
   "execution_count": null,
   "id": "fafcd41f",
   "metadata": {},
   "outputs": [],
   "source": []
  },
  {
   "cell_type": "code",
   "execution_count": null,
   "id": "d14ea1f5",
   "metadata": {},
   "outputs": [],
   "source": []
  },
  {
   "cell_type": "code",
   "execution_count": null,
   "id": "82dd94a6",
   "metadata": {},
   "outputs": [],
   "source": []
  }
 ],
 "metadata": {
  "kernelspec": {
   "display_name": "Python 3 (ipykernel)",
   "language": "python",
   "name": "python3"
  },
  "language_info": {
   "codemirror_mode": {
    "name": "ipython",
    "version": 3
   },
   "file_extension": ".py",
   "mimetype": "text/x-python",
   "name": "python",
   "nbconvert_exporter": "python",
   "pygments_lexer": "ipython3",
   "version": "3.9.7"
  }
 },
 "nbformat": 4,
 "nbformat_minor": 5
}
