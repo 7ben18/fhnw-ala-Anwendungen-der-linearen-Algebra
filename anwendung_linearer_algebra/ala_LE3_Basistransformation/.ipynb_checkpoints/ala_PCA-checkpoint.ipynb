{
 "cells": [
  {
   "cell_type": "code",
   "execution_count": 1,
   "id": "831fadb6",
   "metadata": {},
   "outputs": [],
   "source": [
    "import numpy as np\n",
    "import matplotlib.pyplot as plt"
   ]
  },
  {
   "attachments": {
    "image.png": {
     "image/png": "[encoded data removed]"
    }
   },
   "cell_type": "markdown",
   "id": "3928a76c",
   "metadata": {},
   "source": [
    "![image.png](attachment:image.png)"
   ]
  },
  {
   "cell_type": "code",
   "execution_count": 2,
   "id": "9458b27f",
   "metadata": {},
   "outputs": [
    {
     "name": "stdout",
     "output_type": "stream",
     "text": [
      "[[ 1.    2.    2.    4.    5.    6.    9.    9.    9.   13.  ]\n",
      " [ 1.41  1.56  2.19  2.79  3.04  2.23  3.74  3.84  2.8   4.18]]\n",
      "(2, 10)\n"
     ]
    }
   ],
   "source": [
    "# Hauptkomponentenanalyse\n",
    "x = [1,2,2,4,5,6,9,9,9,13]\n",
    "y = [1.41, 1.56, 2.19, 2.79, 3.04, 2.23, 3.74, 3.84, 2.80, 4.18]\n",
    "\n",
    "A = np.array([x, y])\n",
    "print(A)\n",
    "print(A.shape)"
   ]
  },
  {
   "cell_type": "code",
   "execution_count": 3,
   "id": "14504efc",
   "metadata": {},
   "outputs": [
    {
     "name": "stdout",
     "output_type": "stream",
     "text": [
      "-0.0 -0.0 1.0 1.0\n"
     ]
    }
   ],
   "source": [
    "# Messwerte standardisieren\n",
    "# x-Werte Standardisieren\n",
    "A[0,:] = (A[0,:] - np.mean(A[0,:])) / np.std(A[0,:])\n",
    "\n",
    "# y-Werte Standardisieren\n",
    "A[1,:] = (A[1,:] - np.mean(A[1,:])) / np.std(A[1,:])\n",
    "\n",
    "print(np.round(np.mean(A[0,:])), np.round(np.mean(A[1,:])), np.std(A[0,:]), np.std(A[1,:]))"
   ]
  },
  {
   "cell_type": "code",
   "execution_count": 4,
   "id": "25bf55fc",
   "metadata": {},
   "outputs": [
    {
     "name": "stdout",
     "output_type": "stream",
     "text": [
      "[[-1.34595476 -1.0767638  -1.0767638  -0.5383819  -0.26919095  0.\n",
      "   0.80757285  0.80757285  0.80757285  1.88433666]\n",
      " [-1.52101811 -1.35423981 -0.65377094  0.01334226  0.2913061  -0.60929673\n",
      "   1.06960484  1.18079037  0.02446082  1.55882119]]\n"
     ]
    }
   ],
   "source": [
    "print(A)"
   ]
  },
  {
   "cell_type": "code",
   "execution_count": 5,
   "id": "4653e6ac",
   "metadata": {},
   "outputs": [
    {
     "name": "stdout",
     "output_type": "stream",
     "text": [
      "[[-1.34595476 -1.52101811]\n",
      " [-1.0767638  -1.35423981]\n",
      " [-1.0767638  -0.65377094]\n",
      " [-0.5383819   0.01334226]\n",
      " [-0.26919095  0.2913061 ]\n",
      " [ 0.         -0.60929673]\n",
      " [ 0.80757285  1.06960484]\n",
      " [ 0.80757285  1.18079037]\n",
      " [ 0.80757285  0.02446082]\n",
      " [ 1.88433666  1.55882119]]\n"
     ]
    }
   ],
   "source": [
    "# Matrix A transponieren\n",
    "A_transponiert = A.T\n",
    "print(A_transponiert)"
   ]
  },
  {
   "cell_type": "code",
   "execution_count": 6,
   "id": "06bac349",
   "metadata": {},
   "outputs": [
    {
     "data": {
      "image/png": "[encoded data removed]",
      "text/plain": [
       "<Figure size 432x288 with 1 Axes>"
      ]
     },
     "metadata": {
      "needs_background": "light"
     },
     "output_type": "display_data"
    }
   ],
   "source": [
    "# Messwerte Visuell betrachtet\n",
    "plt.scatter(A[0,:], A[1,:])\n",
    "plt.show()"
   ]
  },
  {
   "cell_type": "code",
   "execution_count": 7,
   "id": "96c5323e",
   "metadata": {},
   "outputs": [
    {
     "name": "stdout",
     "output_type": "stream",
     "text": [
      "[[10.          8.89823053]\n",
      " [ 8.89823053 10.        ]]\n"
     ]
    }
   ],
   "source": [
    "# Kovarianzmatrix erstellen\n",
    "Kovarianzmatrix = A @ A_transponiert\n",
    "print(Kovarianzmatrix)"
   ]
  },
  {
   "cell_type": "code",
   "execution_count": 8,
   "id": "954d132d",
   "metadata": {},
   "outputs": [
    {
     "name": "stdout",
     "output_type": "stream",
     "text": [
      "[18.89823053  1.10176947]\n",
      "[[ 0.70710678 -0.70710678]\n",
      " [ 0.70710678  0.70710678]]\n"
     ]
    }
   ],
   "source": [
    "# eigenwerte und eigenvektoren von der Kovarianzmatrix berechnen\n",
    "eigenwerte, eigenvektoren = np.linalg.eig(Kovarianzmatrix)\n",
    "print(eigenwerte)\n",
    "print(eigenvektoren)"
   ]
  },
  {
   "cell_type": "code",
   "execution_count": 14,
   "id": "38e5399a",
   "metadata": {},
   "outputs": [
    {
     "name": "stdout",
     "output_type": "stream",
     "text": [
      "[[ 0.70710678  0.70710678]\n",
      " [-0.70710678  0.70710678]]\n"
     ]
    }
   ],
   "source": [
    "# Transformationsmatrix erstellen\n",
    "T = np.linalg.inv(eigenvektoren)\n",
    "print(T)"
   ]
  },
  {
   "cell_type": "code",
   "execution_count": 16,
   "id": "3cc4f148",
   "metadata": {},
   "outputs": [
    {
     "data": {
      "text/plain": [
       "array([[-2.02725595, -1.71897914, -1.22367285, -0.37125909,  0.01563777,\n",
       "        -0.43083785,  1.32736508,  1.40598512,  0.58833665,  2.43468026],\n",
       "       [-0.12378848, -0.19620516,  0.29910112,  0.3901279 ,  0.39633127,\n",
       "        -0.43083785,  0.18528459,  0.26390464, -0.55374383, -0.23017419]])"
      ]
     },
     "execution_count": 16,
     "metadata": {},
     "output_type": "execute_result"
    }
   ],
   "source": [
    "# Basiswechsel\n",
    "AT = T @ A\n",
    "AT"
   ]
  },
  {
   "cell_type": "code",
   "execution_count": 19,
   "id": "377a3611",
   "metadata": {},
   "outputs": [
    {
     "data": {
      "image/png": "[encoded data removed]",
      "text/plain": [
       "<Figure size 432x288 with 1 Axes>"
      ]
     },
     "metadata": {
      "needs_background": "light"
     },
     "output_type": "display_data"
    }
   ],
   "source": [
    "plt.scatter(A[0,:], A[1,:], color = \"b\")\n",
    "plt.scatter(AT[0,:], AT[1,:], color = \"r\")\n",
    "plt.show()"
   ]
  }
 ],
 "metadata": {
  "kernelspec": {
   "display_name": "Python 3 (ipykernel)",
   "language": "python",
   "name": "python3"
  },
  "language_info": {
   "codemirror_mode": {
    "name": "ipython",
    "version": 3
   },
   "file_extension": ".py",
   "mimetype": "text/x-python",
   "name": "python",
   "nbconvert_exporter": "python",
   "pygments_lexer": "ipython3",
   "version": "3.9.7"
  }
 },
 "nbformat": 4,
 "nbformat_minor": 5
}
