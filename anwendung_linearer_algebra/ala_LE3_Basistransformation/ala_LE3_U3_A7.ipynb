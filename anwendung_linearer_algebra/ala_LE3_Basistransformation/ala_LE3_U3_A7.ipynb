{
 "cells": [
  {
   "cell_type": "code",
   "execution_count": 43,
   "id": "2a341d14",
   "metadata": {},
   "outputs": [],
   "source": [
    "import numpy as np\n",
    "import matplotlib.pyplot as plt"
   ]
  },
  {
   "cell_type": "code",
   "execution_count": 40,
   "id": "1db0d2e0",
   "metadata": {},
   "outputs": [
    {
     "data": {
      "text/plain": [
       "array([[ -3,  -7, -13,  16, -14,  14,   6,  11,  18, -19,   5,   0,   3,\n",
       "          3,   6,   8,  -3,  -1,   0,   9],\n",
       "       [ -2,  -4,  -6,   6,  -8,   6,   3,   6,   8,  -9,  -1,   1,   4,\n",
       "          2,   2,   2,  -1,  -1,   2,   2]])"
      ]
     },
     "metadata": {},
     "output_type": "display_data"
    },
    {
     "name": "stdout",
     "output_type": "stream",
     "text": [
      "(2, 20)\n"
     ]
    }
   ],
   "source": [
    "# Uebungsblatt 3 - Aufgabe 7\n",
    "x = [-2, -4, -6, 6, -8, 6, 3, 6, 8, -9, -1, 1, 4, 2, 2, 2, -1, -1, 2, 2]\n",
    "y = [-3, -7, -13, 16, -14, 14, 6, 11, 18, -19, 5, 0, 3, 3, 6, 8, -3, -1, 0, 9]\n",
    "\n",
    "x = np.array(x).reshape(-1,1)\n",
    "y = np.array(y).reshape(-1,1)\n",
    "\n",
    "# Matrix erstellen\n",
    "X = np.hstack([y, x]).T\n",
    "display(X)\n",
    "print(X.shape)"
   ]
  },
  {
   "cell_type": "code",
   "execution_count": 34,
   "id": "68c6c953",
   "metadata": {},
   "outputs": [
    {
     "name": "stdout",
     "output_type": "stream",
     "text": [
      "[[ -3  -2]\n",
      " [ -7  -4]\n",
      " [-13  -6]\n",
      " [ 16   6]\n",
      " [-14  -8]\n",
      " [ 14   6]\n",
      " [  6   3]\n",
      " [ 11   6]\n",
      " [ 18   8]\n",
      " [-19  -9]\n",
      " [  5  -1]\n",
      " [  0   1]\n",
      " [  3   4]\n",
      " [  3   2]\n",
      " [  6   2]\n",
      " [  8   2]\n",
      " [ -3  -1]\n",
      " [ -1  -1]\n",
      " [  0   2]\n",
      " [  9   2]]\n",
      "(20, 2)\n"
     ]
    }
   ],
   "source": [
    "# X Transponieren\n",
    "X_T = X.T\n",
    "print(X_T)\n",
    "print(X_T.shape)"
   ]
  },
  {
   "cell_type": "code",
   "execution_count": 33,
   "id": "54f8ae99",
   "metadata": {},
   "outputs": [
    {
     "name": "stdout",
     "output_type": "stream",
     "text": [
      "[[1951  866]\n",
      " [ 866  422]]\n",
      "(2, 2)\n"
     ]
    }
   ],
   "source": [
    "# XX^T berechnen\n",
    "XXT = np.dot(X, X_T)\n",
    "print(XXT)\n",
    "print(XXT.shape)"
   ]
  },
  {
   "cell_type": "code",
   "execution_count": 27,
   "id": "d0139f5d",
   "metadata": {},
   "outputs": [
    {
     "name": "stdout",
     "output_type": "stream",
     "text": [
      "[2341.66935988   31.33064012]\n",
      "[[ 0.91153928 -0.41121301]\n",
      " [ 0.41121301  0.91153928]]\n"
     ]
    }
   ],
   "source": [
    "# Eigenwerte und Eigenvektoren bestimmen\n",
    "eigenwerte, eigenvektoren = np.linalg.eig(XXT)\n",
    "print(eigenwerte)\n",
    "print(eigenvektoren)"
   ]
  },
  {
   "cell_type": "code",
   "execution_count": 31,
   "id": "c71c2e49",
   "metadata": {},
   "outputs": [
    {
     "name": "stdout",
     "output_type": "stream",
     "text": [
      "[[2341.66935988    0.        ]\n",
      " [   0.           31.33064012]]\n"
     ]
    }
   ],
   "source": [
    "# Eigenbasis erstellen mit Eigenvektoren\n",
    "E = np.diag(eigenwerte)\n",
    "print(E)"
   ]
  },
  {
   "cell_type": "code",
   "execution_count": 32,
   "id": "9e6a3f1a",
   "metadata": {},
   "outputs": [
    {
     "name": "stdout",
     "output_type": "stream",
     "text": [
      "[[ 0.91153928 -0.41121301]\n",
      " [ 0.41121301  0.91153928]]\n"
     ]
    }
   ],
   "source": [
    "# Transformationsbasis erstellen mit Eigenvektoren\n",
    "T = eigenvektoren\n",
    "print(T)"
   ]
  },
  {
   "cell_type": "code",
   "execution_count": 41,
   "id": "8c01e8f0",
   "metadata": {},
   "outputs": [
    {
     "name": "stdout",
     "output_type": "stream",
     "text": [
      "[[ 0.91153928  0.41121301]\n",
      " [-0.41121301  0.91153928]]\n"
     ]
    }
   ],
   "source": [
    "# Inverse von T berechnen\n",
    "T_inv = np.linalg.inv(T)\n",
    "print(T_inv)"
   ]
  },
  {
   "cell_type": "code",
   "execution_count": 42,
   "id": "24da161e",
   "metadata": {},
   "outputs": [
    {
     "name": "stdout",
     "output_type": "stream",
     "text": [
      "[[1951. -866.]\n",
      " [-866.  422.]]\n"
     ]
    }
   ],
   "source": [
    "# Transformieren der Eigenbasis von XXT\n",
    "Result = T_inv @ E @ T\n",
    "print(Result)"
   ]
  },
  {
   "cell_type": "code",
   "execution_count": null,
   "id": "c0dccbf1",
   "metadata": {},
   "outputs": [],
   "source": []
  },
  {
   "cell_type": "code",
   "execution_count": null,
   "id": "67894fa2",
   "metadata": {},
   "outputs": [],
   "source": []
  },
  {
   "cell_type": "code",
   "execution_count": null,
   "id": "c4a6724a",
   "metadata": {},
   "outputs": [],
   "source": []
  },
  {
   "cell_type": "code",
   "execution_count": null,
   "id": "c932dbfe",
   "metadata": {},
   "outputs": [],
   "source": []
  }
 ],
 "metadata": {
  "kernelspec": {
   "display_name": "Python 3 (ipykernel)",
   "language": "python",
   "name": "python3"
  },
  "language_info": {
   "codemirror_mode": {
    "name": "ipython",
    "version": 3
   },
   "file_extension": ".py",
   "mimetype": "text/x-python",
   "name": "python",
   "nbconvert_exporter": "python",
   "pygments_lexer": "ipython3",
   "version": "3.9.7"
  }
 },
 "nbformat": 4,
 "nbformat_minor": 5
}
