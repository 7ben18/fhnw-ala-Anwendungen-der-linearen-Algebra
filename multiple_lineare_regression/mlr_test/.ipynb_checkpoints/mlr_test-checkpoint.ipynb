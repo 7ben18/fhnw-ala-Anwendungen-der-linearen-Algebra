{
 "cells": [
  {
   "cell_type": "code",
   "execution_count": 35,
   "id": "abccf467",
   "metadata": {},
   "outputs": [],
   "source": [
    "# Module importieren\n",
    "import pandas as pd\n",
    "import numpy as np\n",
    "import matplotlib.pyplot as plt\n",
    "import seaborn as sns\n",
    "\n",
    "from sklearn.linear_model import LinearRegression"
   ]
  },
  {
   "cell_type": "code",
   "execution_count": 2,
   "id": "d5acc828",
   "metadata": {},
   "outputs": [
    {
     "data": {
      "text/html": [
       "<div>\n",
       "<style scoped>\n",
       "    .dataframe tbody tr th:only-of-type {\n",
       "        vertical-align: middle;\n",
       "    }\n",
       "\n",
       "    .dataframe tbody tr th {\n",
       "        vertical-align: top;\n",
       "    }\n",
       "\n",
       "    .dataframe thead th {\n",
       "        text-align: right;\n",
       "    }\n",
       "</style>\n",
       "<table border=\"1\" class=\"dataframe\">\n",
       "  <thead>\n",
       "    <tr style=\"text-align: right;\">\n",
       "      <th></th>\n",
       "      <th>groesse</th>\n",
       "      <th>gewicht</th>\n",
       "      <th>kleidergroesse</th>\n",
       "    </tr>\n",
       "  </thead>\n",
       "  <tbody>\n",
       "    <tr>\n",
       "      <th>1</th>\n",
       "      <td>107.4</td>\n",
       "      <td>18.0</td>\n",
       "      <td>37.0</td>\n",
       "    </tr>\n",
       "    <tr>\n",
       "      <th>2</th>\n",
       "      <td>159.4</td>\n",
       "      <td>42.1</td>\n",
       "      <td>49.5</td>\n",
       "    </tr>\n",
       "    <tr>\n",
       "      <th>3</th>\n",
       "      <td>94.1</td>\n",
       "      <td>16.0</td>\n",
       "      <td>34.5</td>\n",
       "    </tr>\n",
       "    <tr>\n",
       "      <th>4</th>\n",
       "      <td>99.1</td>\n",
       "      <td>13.5</td>\n",
       "      <td>36.0</td>\n",
       "    </tr>\n",
       "    <tr>\n",
       "      <th>5</th>\n",
       "      <td>114.2</td>\n",
       "      <td>23.4</td>\n",
       "      <td>43.0</td>\n",
       "    </tr>\n",
       "    <tr>\n",
       "      <th>6</th>\n",
       "      <td>96.6</td>\n",
       "      <td>7.7</td>\n",
       "      <td>28.0</td>\n",
       "    </tr>\n",
       "    <tr>\n",
       "      <th>7</th>\n",
       "      <td>107.9</td>\n",
       "      <td>17.3</td>\n",
       "      <td>37.0</td>\n",
       "    </tr>\n",
       "    <tr>\n",
       "      <th>8</th>\n",
       "      <td>56.5</td>\n",
       "      <td>3.8</td>\n",
       "      <td>20.0</td>\n",
       "    </tr>\n",
       "    <tr>\n",
       "      <th>9</th>\n",
       "      <td>92.9</td>\n",
       "      <td>14.9</td>\n",
       "      <td>33.5</td>\n",
       "    </tr>\n",
       "    <tr>\n",
       "      <th>10</th>\n",
       "      <td>59.0</td>\n",
       "      <td>4.3</td>\n",
       "      <td>30.5</td>\n",
       "    </tr>\n",
       "    <tr>\n",
       "      <th>11</th>\n",
       "      <td>82.8</td>\n",
       "      <td>9.5</td>\n",
       "      <td>38.5</td>\n",
       "    </tr>\n",
       "    <tr>\n",
       "      <th>12</th>\n",
       "      <td>145.6</td>\n",
       "      <td>35.6</td>\n",
       "      <td>47.0</td>\n",
       "    </tr>\n",
       "  </tbody>\n",
       "</table>\n",
       "</div>"
      ],
      "text/plain": [
       "    groesse  gewicht  kleidergroesse\n",
       "1     107.4     18.0            37.0\n",
       "2     159.4     42.1            49.5\n",
       "3      94.1     16.0            34.5\n",
       "4      99.1     13.5            36.0\n",
       "5     114.2     23.4            43.0\n",
       "6      96.6      7.7            28.0\n",
       "7     107.9     17.3            37.0\n",
       "8      56.5      3.8            20.0\n",
       "9      92.9     14.9            33.5\n",
       "10     59.0      4.3            30.5\n",
       "11     82.8      9.5            38.5\n",
       "12    145.6     35.6            47.0"
      ]
     },
     "execution_count": 2,
     "metadata": {},
     "output_type": "execute_result"
    }
   ],
   "source": [
    "# Daten in Pandas einlesen\n",
    "data = pd.read_csv(\"kleider.csv\", index_col = \"Unnamed: 0\")\n",
    "data"
   ]
  },
  {
   "cell_type": "code",
   "execution_count": 17,
   "id": "2412f072",
   "metadata": {},
   "outputs": [
    {
     "name": "stdout",
     "output_type": "stream",
     "text": [
      "[[ 18.  107.4]\n",
      " [ 42.1 159.4]\n",
      " [ 16.   94.1]\n",
      " [ 13.5  99.1]\n",
      " [ 23.4 114.2]\n",
      " [  7.7  96.6]\n",
      " [ 17.3 107.9]\n",
      " [  3.8  56.5]\n",
      " [ 14.9  92.9]\n",
      " [  4.3  59. ]\n",
      " [  9.5  82.8]\n",
      " [ 35.6 145.6]]\n",
      "[[ 18.  107.4]\n",
      " [ 42.1 159.4]\n",
      " [ 16.   94.1]\n",
      " [ 13.5  99.1]\n",
      " [ 23.4 114.2]\n",
      " [  7.7  96.6]\n",
      " [ 17.3 107.9]\n",
      " [  3.8  56.5]\n",
      " [ 14.9  92.9]\n",
      " [  4.3  59. ]\n",
      " [  9.5  82.8]\n",
      " [ 35.6 145.6]]\n"
     ]
    },
    {
     "data": {
      "text/plain": [
       "array([37. , 49.5, 34.5, 36. , 43. , 28. , 37. , 20. , 33.5, 30.5, 38.5,\n",
       "       47. ])"
      ]
     },
     "execution_count": 17,
     "metadata": {},
     "output_type": "execute_result"
    }
   ],
   "source": [
    "# x und y Werte definieren\n",
    "x1 = data[\"gewicht\"].values.reshape(-1,1)\n",
    "x2 = data[\"groesse\"].values.reshape(-1,1)\n",
    "x = np.hstack([x1,x2])\n",
    "\n",
    "x_test = data[[\"gewicht\", \"groesse\"]].values\n",
    "print(x_test)\n",
    "print(x)\n",
    "\n",
    "y = data[\"kleidergroesse\"].values\n",
    "y"
   ]
  },
  {
   "cell_type": "code",
   "execution_count": 4,
   "id": "63770050",
   "metadata": {},
   "outputs": [
    {
     "data": {
      "image/png": "[encoded data removed]",
      "text/plain": [
       "<Figure size 540x540 with 12 Axes>"
      ]
     },
     "metadata": {
      "needs_background": "light"
     },
     "output_type": "display_data"
    }
   ],
   "source": [
    "# Einfache plots\n",
    "sns.pairplot(data)\n",
    "plt.show()"
   ]
  },
  {
   "cell_type": "code",
   "execution_count": 5,
   "id": "e5e9723d",
   "metadata": {},
   "outputs": [],
   "source": [
    "# mlr Modell erstellen\n",
    "model = LinearRegression().fit(x,y)"
   ]
  },
  {
   "cell_type": "code",
   "execution_count": 6,
   "id": "72abec29",
   "metadata": {},
   "outputs": [
    {
     "name": "stdout",
     "output_type": "stream",
     "text": [
      "koeffizient gewicht: 0.42752313706925893, koeffizient groesse: 0.07681141320789375\n",
      "koeffizient achsenabschnitt: 21.085267391319242\n",
      "Score von: 0.8055735905200563\n"
     ]
    }
   ],
   "source": [
    "# Koeffizienten \n",
    "steigungen = model.coef_\n",
    "print(\"koeffizient gewicht: {0}, koeffizient groesse: {1}\".format(steigungen[0], steigungen[1]))\n",
    "achsenabschnitt = model.intercept_\n",
    "print(\"koeffizient achsenabschnitt: {0}\".format(achsenabschnitt))\n",
    "\n",
    "r2 = model.score(x,y)\n",
    "print(\"Score von: {}\".format(r2))\n"
   ]
  },
  {
   "cell_type": "code",
   "execution_count": 7,
   "id": "3dd319ef",
   "metadata": {},
   "outputs": [
    {
     "name": "stdout",
     "output_type": "stream",
     "text": [
      "y [kleidergroesse] = 21.085267391319242 + 0.42752313706925893 * [gewicht] + 0.07681141320789375 * [groesse]\n"
     ]
    }
   ],
   "source": [
    "# Formel: \n",
    "print(\"y [kleidergroesse] = {0} + {1} * [gewicht] + {2} * [groesse]\".format(achsenabschnitt, steigungen[0], steigungen[1]))"
   ]
  },
  {
   "cell_type": "code",
   "execution_count": 41,
   "id": "0130644a",
   "metadata": {},
   "outputs": [],
   "source": [
    "def multipleregression(df: pd.DataFrame, y:str, *args):\n",
    "    \n",
    "   \n",
    "    x = df[list(args)].values\n",
    "    y = df[y].values\n",
    "    \n",
    "    model = LinearRegression().fit(x,y)\n",
    "    \n",
    "    model_coef = model.coef_\n",
    "    model_inter = model.intercept_\n",
    "    model_score = model.score(x, y)\n",
    "    \n",
    "    for var_coef in zip(list(args), model_coef):\n",
    "        print(var_coef)\n",
    "    print(\"coef intercept\", model_inter)\n",
    "    print(\"model score r2\", model_score)\n",
    "\n",
    "multipleregression(data, \"kleidergroesse\", \"gewicht\", \"groesse\")"
   ]
  },
  {
   "cell_type": "code",
   "execution_count": 11,
   "id": "0cf110c7",
   "metadata": {},
   "outputs": [
    {
     "data": {
      "image/png": "[encoded data removed]",
      "text/plain": [
       "<Figure size 432x288 with 1 Axes>"
      ]
     },
     "metadata": {
      "needs_background": "light"
     },
     "output_type": "display_data"
    }
   ],
   "source": [
    "# Residuenanalyse\n",
    "y_predict = model.predict(x)\n",
    "residuen = y - y_predict\n",
    "\n",
    "# Residuen plotten\n",
    "\n",
    "plt.scatter(x[:,1], residuen)\n",
    "plt.scatter(x[:,0], residuen)\n",
    "plt.plot(x[:,1], x * 0, c = \"r\")\n",
    "plt.plot(x[:,0], x * 0, c = \"b\")\n",
    "plt.show()"
   ]
  },
  {
   "cell_type": "code",
   "execution_count": 14,
   "id": "3ed7bab9",
   "metadata": {},
   "outputs": [
    {
     "data": {
      "image/png": "[encoded data removed]",
      "text/plain": [
       "<Figure size 432x288 with 1 Axes>"
      ]
     },
     "metadata": {
      "needs_background": "light"
     },
     "output_type": "display_data"
    }
   ],
   "source": [
    "# Verteilung der Residuen\n",
    "plt.hist(residuen, stacked = True, density = False, bins = 5)\n",
    "plt.show()"
   ]
  },
  {
   "attachments": {
    "image.png": {
     "image/png": "[encoded data removed]"
    }
   },
   "cell_type": "markdown",
   "id": "92939d1f",
   "metadata": {},
   "source": [
    "Loesungen (mlr Aufagbe 2)\n",
    "![image.png](attachment:image.png)"
   ]
  },
  {
   "cell_type": "code",
   "execution_count": null,
   "id": "061d760e",
   "metadata": {},
   "outputs": [],
   "source": [
    "# MLR mit statsmodel\n",
    "\n",
    "\"\"\"import statsmodels.api as sm\n",
    "\n",
    "x = data[[\"gewicht\", \"groesse\"]]\n",
    "x = sm.add_constant(x)\n",
    "\n",
    "y = data[\"kleidergroesse\"]\n",
    "\n",
    "model = sm.OLS(y, x)\n",
    "results = model.fit()\n",
    "print(results.summary())\n",
    "\n",
    "\"\"\""
   ]
  },
  {
   "cell_type": "markdown",
   "id": "bc2d9aff",
   "metadata": {},
   "source": [
    "\n",
    "wichtig sind: F-statistic: Die F-Statisik gibt den Anteil der erklärten Varianz an der unerklärten\n",
    "Varianz an. Die Nullhypothese des F-Tests besagt, dass alle Koeffizienten gleich 0 sind. Hingegen ist die\n",
    "Alternative, dass mindestens ein Koeffizient ungleich 0 ist. Somit gibt es mindestens eine Variable im Modell,\n",
    "die signifikanten Einfluss auf die abhängige Variable hat."
   ]
  },
  {
   "cell_type": "code",
   "execution_count": null,
   "id": "37f81a35",
   "metadata": {},
   "outputs": [],
   "source": []
  },
  {
   "cell_type": "code",
   "execution_count": null,
   "id": "1eb6e612",
   "metadata": {},
   "outputs": [],
   "source": []
  },
  {
   "cell_type": "code",
   "execution_count": null,
   "id": "a1b5a371",
   "metadata": {},
   "outputs": [],
   "source": []
  }
 ],
 "metadata": {
  "kernelspec": {
   "display_name": "Python 3 (ipykernel)",
   "language": "python",
   "name": "python3"
  },
  "language_info": {
   "codemirror_mode": {
    "name": "ipython",
    "version": 3
   },
   "file_extension": ".py",
   "mimetype": "text/x-python",
   "name": "python",
   "nbconvert_exporter": "python",
   "pygments_lexer": "ipython3",
   "version": "3.9.7"
  }
 },
 "nbformat": 4,
 "nbformat_minor": 5
}
